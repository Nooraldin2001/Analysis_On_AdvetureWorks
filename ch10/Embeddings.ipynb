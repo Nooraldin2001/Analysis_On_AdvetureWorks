{
  "cells": [
    {
      "cell_type": "markdown",
      "metadata": {
        "id": "view-in-github",
        "colab_type": "text"
      },
      "source": [
        "<a href=\"https://colab.research.google.com/github/Nooraldin2001/Analysis_On_AdvetureWorks/blob/main/ch10/Embeddings.ipynb\" target=\"_parent\"><img src=\"https://colab.research.google.com/assets/colab-badge.svg\" alt=\"Open In Colab\"/></a>"
      ]
    },
    {
      "cell_type": "markdown",
      "metadata": {
        "id": "Qf1vWkh3zDtZ"
      },
      "source": [
        "[**Blueprints for Text Analysis Using Python**](https://github.com/blueprints-for-text-analytics-python/blueprints-text)  \n",
        "Jens Albrecht, Sidharth Ramachandran, Christian Winkler\n",
        "\n",
        "**If you like the book or the code examples here, please leave a friendly comment on [Amazon.com](https://www.amazon.com/Blueprints-Text-Analytics-Using-Python/dp/149207408X)!**\n",
        "<img src=\"https://github.com/blueprints-for-text-analytics-python/blueprints-text/blob/master/rating.png?raw=1\" width=\"100\"/>\n",
        "\n",
        "\n",
        "# Chapter 10:<div class='tocSkip'/>"
      ]
    },
    {
      "cell_type": "markdown",
      "metadata": {
        "id": "9yunx6V0zDtk"
      },
      "source": [
        "# Exploring Semantic Relationships with Word Embeddings"
      ]
    },
    {
      "cell_type": "markdown",
      "metadata": {
        "id": "jX35MDTJzDtm"
      },
      "source": [
        "## Remark<div class='tocSkip'/>\n",
        "\n",
        "The code in this notebook differs slightly from the printed book. For example we frequently use pretty print (`pp.pprint`) instead of `print` and `tqdm`'s `progress_apply` instead of Pandas' `apply`.\n",
        "\n",
        "Moreover, several layout and formatting commands, like `figsize` to control figure size or subplot commands are removed in the book.\n",
        "\n",
        "You may also find some lines marked with three hashes ###. Those are not in the book as well as they don't contribute to the concept.\n",
        "\n",
        "All of this is done to simplify the code in the book and put the focus on the important parts instead of formatting."
      ]
    },
    {
      "cell_type": "markdown",
      "metadata": {
        "id": "1Jwe6g83zDto"
      },
      "source": [
        "## Setup<div class='tocSkip'/>\n",
        "\n",
        "Set directory locations. If working on Google Colab: copy files and install required libraries."
      ]
    },
    {
      "cell_type": "code",
      "execution_count": 2,
      "metadata": {
        "ExecuteTime": {
          "end_time": "2023-01-07T14:14:35.516194Z",
          "start_time": "2023-01-07T14:14:35.491996Z"
        },
        "colab": {
          "base_uri": "https://localhost:8080/"
        },
        "id": "BcEusXcAzDtq",
        "outputId": "f7dfc198-ca16-4653-92b9-359f6a485501"
      },
      "outputs": [
        {
          "output_type": "stream",
          "name": "stdout",
          "text": [
            "You are working on Google Colab.\n",
            "Files will be downloaded to \"/content\".\n",
            "Downloading required files ...\n",
            "!wget -P /content https://github.com/blueprints-for-text-analytics-python/blueprints-text/raw/master/settings.py\n",
            "!wget -P /content/packages/blueprints https://github.com/blueprints-for-text-analytics-python/blueprints-text/raw/master/packages/blueprints/__init__.py\n",
            "!wget -P /content/packages/blueprints https://github.com/blueprints-for-text-analytics-python/blueprints-text/raw/master/packages/blueprints/embeddings.py\n",
            "!wget -P /content/data/reddit-selfposts https://github.com/blueprints-for-text-analytics-python/blueprints-text/raw/master/data/reddit-selfposts/reddit-selfposts-ch10.db\n",
            "!wget -P /content/ch10 https://github.com/blueprints-for-text-analytics-python/blueprints-text/raw/master/ch10/requirements.txt\n",
            "\n",
            "Additional setup ...\n",
            "!pip install -r /content/ch10/requirements.txt\n",
            "!mkdir -p models\n"
          ]
        }
      ],
      "source": [
        "import sys, os\n",
        "ON_COLAB = 'google.colab' in sys.modules\n",
        "\n",
        "if ON_COLAB:\n",
        "    GIT_ROOT = 'https://github.com/blueprints-for-text-analytics-python/blueprints-text/raw/master'\n",
        "    os.system(f'wget {GIT_ROOT}/ch10/setup.py')\n",
        "\n",
        "%run -i setup.py"
      ]
    },
    {
      "cell_type": "markdown",
      "metadata": {
        "id": "b9guYQokzDtt"
      },
      "source": [
        "## Load Python Settings<div class=\"tocSkip\"/>\n",
        "\n",
        "Common imports, defaults for formatting in Matplotlib, Pandas etc."
      ]
    },
    {
      "cell_type": "code",
      "execution_count": 3,
      "metadata": {
        "ExecuteTime": {
          "end_time": "2023-01-07T14:14:46.258292Z",
          "start_time": "2023-01-07T14:14:35.518827Z"
        },
        "id": "DaaFiMTfzDtv"
      },
      "outputs": [],
      "source": [
        "%run \"$BASE_DIR/settings.py\"\n",
        "\n",
        "%reload_ext autoreload\n",
        "%autoreload 2\n",
        "%config InlineBackend.figure_format = 'png'\n",
        "\n",
        "# set precision for similarity values\n",
        "%precision 3\n",
        "np.set_printoptions(suppress=True) # no scientific for small numbers\n",
        "\n",
        "# path to import blueprints packages\n",
        "sys.path.append(BASE_DIR + '/packages')"
      ]
    },
    {
      "cell_type": "markdown",
      "metadata": {
        "id": "vAeOqQmVzDtx"
      },
      "source": [
        "## What you will learn and what we will build\n"
      ]
    },
    {
      "cell_type": "markdown",
      "metadata": {
        "id": "Ecd1bw_qzDty"
      },
      "source": [
        "# The Case for Semantic Embeddings\n",
        "## Word Embeddings\n"
      ]
    },
    {
      "cell_type": "markdown",
      "metadata": {
        "id": "lCClW5pfzDt0"
      },
      "source": [
        "## Analogy Reasoning with Word Embeddings\n"
      ]
    },
    {
      "cell_type": "markdown",
      "metadata": {
        "id": "k5bN-wxhzDt0"
      },
      "source": [
        "## Types of Embeddings\n"
      ]
    },
    {
      "cell_type": "markdown",
      "metadata": {
        "id": "SnO10VGYzDt1"
      },
      "source": [
        "### Word2Vec\n"
      ]
    },
    {
      "cell_type": "markdown",
      "metadata": {
        "id": "8N-FCHsgzDt2"
      },
      "source": [
        "### GloVe\n",
        "### FastText\n",
        "### Deep Contextualized Embeddings\n"
      ]
    },
    {
      "cell_type": "markdown",
      "metadata": {
        "id": "RlNcw7TyzDt2"
      },
      "source": [
        "# Blueprint: Similarity Queries on Pre-Trained Models\n",
        "## Loading a Pretrained Model\n"
      ]
    },
    {
      "cell_type": "code",
      "execution_count": 4,
      "metadata": {
        "ExecuteTime": {
          "end_time": "2023-01-07T14:14:46.302780Z",
          "start_time": "2023-01-07T14:14:46.261277Z"
        },
        "id": "xUjOhqJOzDt3"
      },
      "outputs": [],
      "source": [
        "import os\n",
        "os.environ['GENSIM_DATA_DIR'] = './models'"
      ]
    },
    {
      "cell_type": "code",
      "execution_count": 5,
      "metadata": {
        "ExecuteTime": {
          "end_time": "2023-01-07T14:14:46.343664Z",
          "start_time": "2023-01-07T14:14:46.307525Z"
        },
        "id": "cvm_y3n7zDt3"
      },
      "outputs": [],
      "source": [
        "# pandas number format\n",
        "pd.options.display.float_format = '{:.0f}'.format"
      ]
    },
    {
      "cell_type": "code",
      "execution_count": 6,
      "metadata": {
        "ExecuteTime": {
          "end_time": "2023-01-07T14:14:46.729454Z",
          "start_time": "2023-01-07T14:14:46.347181Z"
        },
        "colab": {
          "base_uri": "https://localhost:8080/",
          "height": 258
        },
        "id": "rm3xwIptzDt4",
        "outputId": "5b8a1bfc-b4e7-45b7-b0ef-2ca997dd2a76"
      },
      "outputs": [
        {
          "output_type": "execute_result",
          "data": {
            "text/plain": [
              "                                  file_size  \\\n",
              "fasttext-wiki-news-subwords-300  1005007116   \n",
              "conceptnet-numberbatch-17-06-300 1225497562   \n",
              "word2vec-ruscorpora-300           208427381   \n",
              "word2vec-google-news-300         1743563840   \n",
              "glove-wiki-gigaword-50             69182535   \n",
              "\n",
              "                                                                                                  base_dataset  \\\n",
              "fasttext-wiki-news-subwords-300   Wikipedia 2017, UMBC webbase corpus and statmt.org news dataset (16B tokens)   \n",
              "conceptnet-numberbatch-17-06-300                           ConceptNet, word2vec, GloVe, and OpenSubtitles 2016   \n",
              "word2vec-ruscorpora-300                                             Russian National Corpus (about 250M words)   \n",
              "word2vec-google-news-300                                                 Google News (about 100 billion words)   \n",
              "glove-wiki-gigaword-50                                        Wikipedia 2014 + Gigaword 5 (6B tokens, uncased)   \n",
              "\n",
              "                                                             parameters  \n",
              "fasttext-wiki-news-subwords-300                      {'dimension': 300}  \n",
              "conceptnet-numberbatch-17-06-300                     {'dimension': 300}  \n",
              "word2vec-ruscorpora-300           {'dimension': 300, 'window_size': 10}  \n",
              "word2vec-google-news-300                             {'dimension': 300}  \n",
              "glove-wiki-gigaword-50                                {'dimension': 50}  "
            ],
            "text/html": [
              "\n",
              "  <div id=\"df-c95ebaf7-aff4-4855-8a83-49bfe5e432ae\" class=\"colab-df-container\">\n",
              "    <div>\n",
              "<style scoped>\n",
              "    .dataframe tbody tr th:only-of-type {\n",
              "        vertical-align: middle;\n",
              "    }\n",
              "\n",
              "    .dataframe tbody tr th {\n",
              "        vertical-align: top;\n",
              "    }\n",
              "\n",
              "    .dataframe thead th {\n",
              "        text-align: right;\n",
              "    }\n",
              "</style>\n",
              "<table border=\"1\" class=\"dataframe tex2jax_ignore\">\n",
              "  <thead>\n",
              "    <tr style=\"text-align: right;\">\n",
              "      <th></th>\n",
              "      <th>file_size</th>\n",
              "      <th>base_dataset</th>\n",
              "      <th>parameters</th>\n",
              "    </tr>\n",
              "  </thead>\n",
              "  <tbody>\n",
              "    <tr>\n",
              "      <th>fasttext-wiki-news-subwords-300</th>\n",
              "      <td>1005007116</td>\n",
              "      <td>Wikipedia 2017, UMBC webbase corpus and statmt.org news dataset (16B tokens)</td>\n",
              "      <td>{'dimension': 300}</td>\n",
              "    </tr>\n",
              "    <tr>\n",
              "      <th>conceptnet-numberbatch-17-06-300</th>\n",
              "      <td>1225497562</td>\n",
              "      <td>ConceptNet, word2vec, GloVe, and OpenSubtitles 2016</td>\n",
              "      <td>{'dimension': 300}</td>\n",
              "    </tr>\n",
              "    <tr>\n",
              "      <th>word2vec-ruscorpora-300</th>\n",
              "      <td>208427381</td>\n",
              "      <td>Russian National Corpus (about 250M words)</td>\n",
              "      <td>{'dimension': 300, 'window_size': 10}</td>\n",
              "    </tr>\n",
              "    <tr>\n",
              "      <th>word2vec-google-news-300</th>\n",
              "      <td>1743563840</td>\n",
              "      <td>Google News (about 100 billion words)</td>\n",
              "      <td>{'dimension': 300}</td>\n",
              "    </tr>\n",
              "    <tr>\n",
              "      <th>glove-wiki-gigaword-50</th>\n",
              "      <td>69182535</td>\n",
              "      <td>Wikipedia 2014 + Gigaword 5 (6B tokens, uncased)</td>\n",
              "      <td>{'dimension': 50}</td>\n",
              "    </tr>\n",
              "  </tbody>\n",
              "</table>\n",
              "</div>\n",
              "    <div class=\"colab-df-buttons\">\n",
              "\n",
              "  <div class=\"colab-df-container\">\n",
              "    <button class=\"colab-df-convert\" onclick=\"convertToInteractive('df-c95ebaf7-aff4-4855-8a83-49bfe5e432ae')\"\n",
              "            title=\"Convert this dataframe to an interactive table.\"\n",
              "            style=\"display:none;\">\n",
              "\n",
              "  <svg xmlns=\"http://www.w3.org/2000/svg\" height=\"24px\" viewBox=\"0 -960 960 960\">\n",
              "    <path d=\"M120-120v-720h720v720H120Zm60-500h600v-160H180v160Zm220 220h160v-160H400v160Zm0 220h160v-160H400v160ZM180-400h160v-160H180v160Zm440 0h160v-160H620v160ZM180-180h160v-160H180v160Zm440 0h160v-160H620v160Z\"/>\n",
              "  </svg>\n",
              "    </button>\n",
              "\n",
              "  <style>\n",
              "    .colab-df-container {\n",
              "      display:flex;\n",
              "      gap: 12px;\n",
              "    }\n",
              "\n",
              "    .colab-df-convert {\n",
              "      background-color: #E8F0FE;\n",
              "      border: none;\n",
              "      border-radius: 50%;\n",
              "      cursor: pointer;\n",
              "      display: none;\n",
              "      fill: #1967D2;\n",
              "      height: 32px;\n",
              "      padding: 0 0 0 0;\n",
              "      width: 32px;\n",
              "    }\n",
              "\n",
              "    .colab-df-convert:hover {\n",
              "      background-color: #E2EBFA;\n",
              "      box-shadow: 0px 1px 2px rgba(60, 64, 67, 0.3), 0px 1px 3px 1px rgba(60, 64, 67, 0.15);\n",
              "      fill: #174EA6;\n",
              "    }\n",
              "\n",
              "    .colab-df-buttons div {\n",
              "      margin-bottom: 4px;\n",
              "    }\n",
              "\n",
              "    [theme=dark] .colab-df-convert {\n",
              "      background-color: #3B4455;\n",
              "      fill: #D2E3FC;\n",
              "    }\n",
              "\n",
              "    [theme=dark] .colab-df-convert:hover {\n",
              "      background-color: #434B5C;\n",
              "      box-shadow: 0px 1px 3px 1px rgba(0, 0, 0, 0.15);\n",
              "      filter: drop-shadow(0px 1px 2px rgba(0, 0, 0, 0.3));\n",
              "      fill: #FFFFFF;\n",
              "    }\n",
              "  </style>\n",
              "\n",
              "    <script>\n",
              "      const buttonEl =\n",
              "        document.querySelector('#df-c95ebaf7-aff4-4855-8a83-49bfe5e432ae button.colab-df-convert');\n",
              "      buttonEl.style.display =\n",
              "        google.colab.kernel.accessAllowed ? 'block' : 'none';\n",
              "\n",
              "      async function convertToInteractive(key) {\n",
              "        const element = document.querySelector('#df-c95ebaf7-aff4-4855-8a83-49bfe5e432ae');\n",
              "        const dataTable =\n",
              "          await google.colab.kernel.invokeFunction('convertToInteractive',\n",
              "                                                    [key], {});\n",
              "        if (!dataTable) return;\n",
              "\n",
              "        const docLinkHtml = 'Like what you see? Visit the ' +\n",
              "          '<a target=\"_blank\" href=https://colab.research.google.com/notebooks/data_table.ipynb>data table notebook</a>'\n",
              "          + ' to learn more about interactive tables.';\n",
              "        element.innerHTML = '';\n",
              "        dataTable['output_type'] = 'display_data';\n",
              "        await google.colab.output.renderOutput(dataTable, element);\n",
              "        const docLink = document.createElement('div');\n",
              "        docLink.innerHTML = docLinkHtml;\n",
              "        element.appendChild(docLink);\n",
              "      }\n",
              "    </script>\n",
              "  </div>\n",
              "\n",
              "\n",
              "<div id=\"df-6c523807-0bcb-4d29-834f-dc11007acb62\">\n",
              "  <button class=\"colab-df-quickchart\" onclick=\"quickchart('df-6c523807-0bcb-4d29-834f-dc11007acb62')\"\n",
              "            title=\"Suggest charts\"\n",
              "            style=\"display:none;\">\n",
              "\n",
              "<svg xmlns=\"http://www.w3.org/2000/svg\" height=\"24px\"viewBox=\"0 0 24 24\"\n",
              "     width=\"24px\">\n",
              "    <g>\n",
              "        <path d=\"M19 3H5c-1.1 0-2 .9-2 2v14c0 1.1.9 2 2 2h14c1.1 0 2-.9 2-2V5c0-1.1-.9-2-2-2zM9 17H7v-7h2v7zm4 0h-2V7h2v10zm4 0h-2v-4h2v4z\"/>\n",
              "    </g>\n",
              "</svg>\n",
              "  </button>\n",
              "\n",
              "<style>\n",
              "  .colab-df-quickchart {\n",
              "      --bg-color: #E8F0FE;\n",
              "      --fill-color: #1967D2;\n",
              "      --hover-bg-color: #E2EBFA;\n",
              "      --hover-fill-color: #174EA6;\n",
              "      --disabled-fill-color: #AAA;\n",
              "      --disabled-bg-color: #DDD;\n",
              "  }\n",
              "\n",
              "  [theme=dark] .colab-df-quickchart {\n",
              "      --bg-color: #3B4455;\n",
              "      --fill-color: #D2E3FC;\n",
              "      --hover-bg-color: #434B5C;\n",
              "      --hover-fill-color: #FFFFFF;\n",
              "      --disabled-bg-color: #3B4455;\n",
              "      --disabled-fill-color: #666;\n",
              "  }\n",
              "\n",
              "  .colab-df-quickchart {\n",
              "    background-color: var(--bg-color);\n",
              "    border: none;\n",
              "    border-radius: 50%;\n",
              "    cursor: pointer;\n",
              "    display: none;\n",
              "    fill: var(--fill-color);\n",
              "    height: 32px;\n",
              "    padding: 0;\n",
              "    width: 32px;\n",
              "  }\n",
              "\n",
              "  .colab-df-quickchart:hover {\n",
              "    background-color: var(--hover-bg-color);\n",
              "    box-shadow: 0 1px 2px rgba(60, 64, 67, 0.3), 0 1px 3px 1px rgba(60, 64, 67, 0.15);\n",
              "    fill: var(--button-hover-fill-color);\n",
              "  }\n",
              "\n",
              "  .colab-df-quickchart-complete:disabled,\n",
              "  .colab-df-quickchart-complete:disabled:hover {\n",
              "    background-color: var(--disabled-bg-color);\n",
              "    fill: var(--disabled-fill-color);\n",
              "    box-shadow: none;\n",
              "  }\n",
              "\n",
              "  .colab-df-spinner {\n",
              "    border: 2px solid var(--fill-color);\n",
              "    border-color: transparent;\n",
              "    border-bottom-color: var(--fill-color);\n",
              "    animation:\n",
              "      spin 1s steps(1) infinite;\n",
              "  }\n",
              "\n",
              "  @keyframes spin {\n",
              "    0% {\n",
              "      border-color: transparent;\n",
              "      border-bottom-color: var(--fill-color);\n",
              "      border-left-color: var(--fill-color);\n",
              "    }\n",
              "    20% {\n",
              "      border-color: transparent;\n",
              "      border-left-color: var(--fill-color);\n",
              "      border-top-color: var(--fill-color);\n",
              "    }\n",
              "    30% {\n",
              "      border-color: transparent;\n",
              "      border-left-color: var(--fill-color);\n",
              "      border-top-color: var(--fill-color);\n",
              "      border-right-color: var(--fill-color);\n",
              "    }\n",
              "    40% {\n",
              "      border-color: transparent;\n",
              "      border-right-color: var(--fill-color);\n",
              "      border-top-color: var(--fill-color);\n",
              "    }\n",
              "    60% {\n",
              "      border-color: transparent;\n",
              "      border-right-color: var(--fill-color);\n",
              "    }\n",
              "    80% {\n",
              "      border-color: transparent;\n",
              "      border-right-color: var(--fill-color);\n",
              "      border-bottom-color: var(--fill-color);\n",
              "    }\n",
              "    90% {\n",
              "      border-color: transparent;\n",
              "      border-bottom-color: var(--fill-color);\n",
              "    }\n",
              "  }\n",
              "</style>\n",
              "\n",
              "  <script>\n",
              "    async function quickchart(key) {\n",
              "      const quickchartButtonEl =\n",
              "        document.querySelector('#' + key + ' button');\n",
              "      quickchartButtonEl.disabled = true;  // To prevent multiple clicks.\n",
              "      quickchartButtonEl.classList.add('colab-df-spinner');\n",
              "      try {\n",
              "        const charts = await google.colab.kernel.invokeFunction(\n",
              "            'suggestCharts', [key], {});\n",
              "      } catch (error) {\n",
              "        console.error('Error during call to suggestCharts:', error);\n",
              "      }\n",
              "      quickchartButtonEl.classList.remove('colab-df-spinner');\n",
              "      quickchartButtonEl.classList.add('colab-df-quickchart-complete');\n",
              "    }\n",
              "    (() => {\n",
              "      let quickchartButtonEl =\n",
              "        document.querySelector('#df-6c523807-0bcb-4d29-834f-dc11007acb62 button');\n",
              "      quickchartButtonEl.style.display =\n",
              "        google.colab.kernel.accessAllowed ? 'block' : 'none';\n",
              "    })();\n",
              "  </script>\n",
              "</div>\n",
              "\n",
              "    </div>\n",
              "  </div>\n"
            ],
            "application/vnd.google.colaboratory.intrinsic+json": {
              "type": "dataframe",
              "summary": "{\n  \"name\": \"info_df[['file_size', 'base_dataset', 'parameters']]\",\n  \"rows\": 5,\n  \"fields\": [\n    {\n      \"column\": \"file_size\",\n      \"properties\": {\n        \"dtype\": \"number\",\n        \"std\": 704409812.6988177,\n        \"min\": 69182535.0,\n        \"max\": 1743563840.0,\n        \"num_unique_values\": 5,\n        \"samples\": [\n          1225497562.0,\n          69182535.0,\n          208427381.0\n        ],\n        \"semantic_type\": \"\",\n        \"description\": \"\"\n      }\n    },\n    {\n      \"column\": \"base_dataset\",\n      \"properties\": {\n        \"dtype\": \"string\",\n        \"num_unique_values\": 5,\n        \"samples\": [\n          \"ConceptNet, word2vec, GloVe, and OpenSubtitles 2016\",\n          \"Wikipedia 2014 + Gigaword 5 (6B tokens, uncased)\",\n          \"Russian National Corpus (about 250M words)\"\n        ],\n        \"semantic_type\": \"\",\n        \"description\": \"\"\n      }\n    },\n    {\n      \"column\": \"parameters\",\n      \"properties\": {\n        \"dtype\": \"object\",\n        \"semantic_type\": \"\",\n        \"description\": \"\"\n      }\n    }\n  ]\n}"
            }
          },
          "metadata": {},
          "execution_count": 6
        }
      ],
      "source": [
        "import gensim.downloader as api\n",
        "\n",
        "info_df = pd.DataFrame.from_dict(api.info()['models'], orient='index')\n",
        "info_df[['file_size', 'base_dataset', 'parameters']].head(5)"
      ]
    },
    {
      "cell_type": "code",
      "execution_count": 7,
      "metadata": {
        "ExecuteTime": {
          "end_time": "2023-01-07T14:14:46.789270Z",
          "start_time": "2023-01-07T14:14:46.732171Z"
        },
        "colab": {
          "base_uri": "https://localhost:8080/",
          "height": 805
        },
        "id": "Tnlb2FfOzDt4",
        "outputId": "0c07ea0c-c1b3-4677-ea54-862dc7f0bff0"
      },
      "outputs": [
        {
          "output_type": "execute_result",
          "data": {
            "text/plain": [
              "                                  num_records  file_size  \\\n",
              "fasttext-wiki-news-subwords-300        999999 1005007116   \n",
              "conceptnet-numberbatch-17-06-300      1917247 1225497562   \n",
              "word2vec-ruscorpora-300                184973  208427381   \n",
              "\n",
              "                                                                                                  base_dataset  \\\n",
              "fasttext-wiki-news-subwords-300   Wikipedia 2017, UMBC webbase corpus and statmt.org news dataset (16B tokens)   \n",
              "conceptnet-numberbatch-17-06-300                           ConceptNet, word2vec, GloVe, and OpenSubtitles 2016   \n",
              "word2vec-ruscorpora-300                                             Russian National Corpus (about 250M words)   \n",
              "\n",
              "                                                                                                                                      reader_code  \\\n",
              "fasttext-wiki-news-subwords-300    https://github.com/RaRe-Technologies/gensim-data/releases/download/fasttext-wiki-news-subwords-300/__init__.py   \n",
              "conceptnet-numberbatch-17-06-300  https://github.com/RaRe-Technologies/gensim-data/releases/download/conceptnet-numberbatch-17-06-300/__init__.py   \n",
              "word2vec-ruscorpora-300                    https://github.com/RaRe-Technologies/gensim-data/releases/download/word2vec-ruscorpora-300/__init__.py   \n",
              "\n",
              "                                                                                                        license  \\\n",
              "fasttext-wiki-news-subwords-300                                 https://creativecommons.org/licenses/by-sa/3.0/   \n",
              "conceptnet-numberbatch-17-06-300  https://github.com/commonsense/conceptnet-numberbatch/blob/master/LICENSE.txt   \n",
              "word2vec-ruscorpora-300                                     https://creativecommons.org/licenses/by/4.0/deed.en   \n",
              "\n",
              "                                                             parameters  \\\n",
              "fasttext-wiki-news-subwords-300                      {'dimension': 300}   \n",
              "conceptnet-numberbatch-17-06-300                     {'dimension': 300}   \n",
              "word2vec-ruscorpora-300           {'dimension': 300, 'window_size': 10}   \n",
              "\n",
              "                                                                                                                                                                                                                              description  \\\n",
              "fasttext-wiki-news-subwords-300                                                                                           1 million word vectors trained on Wikipedia 2017, UMBC webbase corpus and statmt.org news dataset (16B tokens).   \n",
              "conceptnet-numberbatch-17-06-300  ConceptNet Numberbatch consists of state-of-the-art semantic vectors (also known as word embeddings) that can be used directly as a representation of word meanings or as a starting point for furth...   \n",
              "word2vec-ruscorpora-300                                                                                   Word2vec Continuous Skipgram vectors trained on full Russian National Corpus (about 250M words). The model contains 185K words.   \n",
              "\n",
              "                                                                                                                                                                                                                               read_more  \\\n",
              "fasttext-wiki-news-subwords-300                                                                                   [https://fasttext.cc/docs/en/english-vectors.html, https://arxiv.org/abs/1712.09405, https://arxiv.org/abs/1607.01759]   \n",
              "conceptnet-numberbatch-17-06-300                                                              [http://aaai.org/ocs/index.php/AAAI/AAAI17/paper/view/14972, https://github.com/commonsense/conceptnet-numberbatch, http://conceptnet.io/]   \n",
              "word2vec-ruscorpora-300           [https://www.academia.edu/24306935/WebVectors_a_Toolkit_for_Building_Web_Interfaces_for_Vector_Semantic_Models, http://rusvectores.org/en/, https://github.com/RaRe-Technologies/gensim-data/issues/3]   \n",
              "\n",
              "                                                          checksum  \\\n",
              "fasttext-wiki-news-subwords-300   de2bb3a20c46ce65c9c131e1ad9a77af   \n",
              "conceptnet-numberbatch-17-06-300  fd642d457adcd0ea94da0cd21b150847   \n",
              "word2vec-ruscorpora-300           9bdebdc8ae6d17d20839dd9b5af10bc4   \n",
              "\n",
              "                                                            file_name  parts  \\\n",
              "fasttext-wiki-news-subwords-300    fasttext-wiki-news-subwords-300.gz      1   \n",
              "conceptnet-numberbatch-17-06-300  conceptnet-numberbatch-17-06-300.gz      1   \n",
              "word2vec-ruscorpora-300                    word2vec-ruscorpora-300.gz      1   \n",
              "\n",
              "                                                                            preprocessing  \n",
              "fasttext-wiki-news-subwords-300                                                       NaN  \n",
              "conceptnet-numberbatch-17-06-300                                                      NaN  \n",
              "word2vec-ruscorpora-300           The corpus was lemmatized and tagged with Universal PoS  "
            ],
            "text/html": [
              "\n",
              "  <div id=\"df-d65c529f-a580-40eb-8985-85a429cd7453\" class=\"colab-df-container\">\n",
              "    <div>\n",
              "<style scoped>\n",
              "    .dataframe tbody tr th:only-of-type {\n",
              "        vertical-align: middle;\n",
              "    }\n",
              "\n",
              "    .dataframe tbody tr th {\n",
              "        vertical-align: top;\n",
              "    }\n",
              "\n",
              "    .dataframe thead th {\n",
              "        text-align: right;\n",
              "    }\n",
              "</style>\n",
              "<table border=\"1\" class=\"dataframe tex2jax_ignore\">\n",
              "  <thead>\n",
              "    <tr style=\"text-align: right;\">\n",
              "      <th></th>\n",
              "      <th>num_records</th>\n",
              "      <th>file_size</th>\n",
              "      <th>base_dataset</th>\n",
              "      <th>reader_code</th>\n",
              "      <th>license</th>\n",
              "      <th>parameters</th>\n",
              "      <th>description</th>\n",
              "      <th>read_more</th>\n",
              "      <th>checksum</th>\n",
              "      <th>file_name</th>\n",
              "      <th>parts</th>\n",
              "      <th>preprocessing</th>\n",
              "    </tr>\n",
              "  </thead>\n",
              "  <tbody>\n",
              "    <tr>\n",
              "      <th>fasttext-wiki-news-subwords-300</th>\n",
              "      <td>999999</td>\n",
              "      <td>1005007116</td>\n",
              "      <td>Wikipedia 2017, UMBC webbase corpus and statmt.org news dataset (16B tokens)</td>\n",
              "      <td>https://github.com/RaRe-Technologies/gensim-data/releases/download/fasttext-wiki-news-subwords-300/__init__.py</td>\n",
              "      <td>https://creativecommons.org/licenses/by-sa/3.0/</td>\n",
              "      <td>{'dimension': 300}</td>\n",
              "      <td>1 million word vectors trained on Wikipedia 2017, UMBC webbase corpus and statmt.org news dataset (16B tokens).</td>\n",
              "      <td>[https://fasttext.cc/docs/en/english-vectors.html, https://arxiv.org/abs/1712.09405, https://arxiv.org/abs/1607.01759]</td>\n",
              "      <td>de2bb3a20c46ce65c9c131e1ad9a77af</td>\n",
              "      <td>fasttext-wiki-news-subwords-300.gz</td>\n",
              "      <td>1</td>\n",
              "      <td>NaN</td>\n",
              "    </tr>\n",
              "    <tr>\n",
              "      <th>conceptnet-numberbatch-17-06-300</th>\n",
              "      <td>1917247</td>\n",
              "      <td>1225497562</td>\n",
              "      <td>ConceptNet, word2vec, GloVe, and OpenSubtitles 2016</td>\n",
              "      <td>https://github.com/RaRe-Technologies/gensim-data/releases/download/conceptnet-numberbatch-17-06-300/__init__.py</td>\n",
              "      <td>https://github.com/commonsense/conceptnet-numberbatch/blob/master/LICENSE.txt</td>\n",
              "      <td>{'dimension': 300}</td>\n",
              "      <td>ConceptNet Numberbatch consists of state-of-the-art semantic vectors (also known as word embeddings) that can be used directly as a representation of word meanings or as a starting point for furth...</td>\n",
              "      <td>[http://aaai.org/ocs/index.php/AAAI/AAAI17/paper/view/14972, https://github.com/commonsense/conceptnet-numberbatch, http://conceptnet.io/]</td>\n",
              "      <td>fd642d457adcd0ea94da0cd21b150847</td>\n",
              "      <td>conceptnet-numberbatch-17-06-300.gz</td>\n",
              "      <td>1</td>\n",
              "      <td>NaN</td>\n",
              "    </tr>\n",
              "    <tr>\n",
              "      <th>word2vec-ruscorpora-300</th>\n",
              "      <td>184973</td>\n",
              "      <td>208427381</td>\n",
              "      <td>Russian National Corpus (about 250M words)</td>\n",
              "      <td>https://github.com/RaRe-Technologies/gensim-data/releases/download/word2vec-ruscorpora-300/__init__.py</td>\n",
              "      <td>https://creativecommons.org/licenses/by/4.0/deed.en</td>\n",
              "      <td>{'dimension': 300, 'window_size': 10}</td>\n",
              "      <td>Word2vec Continuous Skipgram vectors trained on full Russian National Corpus (about 250M words). The model contains 185K words.</td>\n",
              "      <td>[https://www.academia.edu/24306935/WebVectors_a_Toolkit_for_Building_Web_Interfaces_for_Vector_Semantic_Models, http://rusvectores.org/en/, https://github.com/RaRe-Technologies/gensim-data/issues/3]</td>\n",
              "      <td>9bdebdc8ae6d17d20839dd9b5af10bc4</td>\n",
              "      <td>word2vec-ruscorpora-300.gz</td>\n",
              "      <td>1</td>\n",
              "      <td>The corpus was lemmatized and tagged with Universal PoS</td>\n",
              "    </tr>\n",
              "  </tbody>\n",
              "</table>\n",
              "</div>\n",
              "    <div class=\"colab-df-buttons\">\n",
              "\n",
              "  <div class=\"colab-df-container\">\n",
              "    <button class=\"colab-df-convert\" onclick=\"convertToInteractive('df-d65c529f-a580-40eb-8985-85a429cd7453')\"\n",
              "            title=\"Convert this dataframe to an interactive table.\"\n",
              "            style=\"display:none;\">\n",
              "\n",
              "  <svg xmlns=\"http://www.w3.org/2000/svg\" height=\"24px\" viewBox=\"0 -960 960 960\">\n",
              "    <path d=\"M120-120v-720h720v720H120Zm60-500h600v-160H180v160Zm220 220h160v-160H400v160Zm0 220h160v-160H400v160ZM180-400h160v-160H180v160Zm440 0h160v-160H620v160ZM180-180h160v-160H180v160Zm440 0h160v-160H620v160Z\"/>\n",
              "  </svg>\n",
              "    </button>\n",
              "\n",
              "  <style>\n",
              "    .colab-df-container {\n",
              "      display:flex;\n",
              "      gap: 12px;\n",
              "    }\n",
              "\n",
              "    .colab-df-convert {\n",
              "      background-color: #E8F0FE;\n",
              "      border: none;\n",
              "      border-radius: 50%;\n",
              "      cursor: pointer;\n",
              "      display: none;\n",
              "      fill: #1967D2;\n",
              "      height: 32px;\n",
              "      padding: 0 0 0 0;\n",
              "      width: 32px;\n",
              "    }\n",
              "\n",
              "    .colab-df-convert:hover {\n",
              "      background-color: #E2EBFA;\n",
              "      box-shadow: 0px 1px 2px rgba(60, 64, 67, 0.3), 0px 1px 3px 1px rgba(60, 64, 67, 0.15);\n",
              "      fill: #174EA6;\n",
              "    }\n",
              "\n",
              "    .colab-df-buttons div {\n",
              "      margin-bottom: 4px;\n",
              "    }\n",
              "\n",
              "    [theme=dark] .colab-df-convert {\n",
              "      background-color: #3B4455;\n",
              "      fill: #D2E3FC;\n",
              "    }\n",
              "\n",
              "    [theme=dark] .colab-df-convert:hover {\n",
              "      background-color: #434B5C;\n",
              "      box-shadow: 0px 1px 3px 1px rgba(0, 0, 0, 0.15);\n",
              "      filter: drop-shadow(0px 1px 2px rgba(0, 0, 0, 0.3));\n",
              "      fill: #FFFFFF;\n",
              "    }\n",
              "  </style>\n",
              "\n",
              "    <script>\n",
              "      const buttonEl =\n",
              "        document.querySelector('#df-d65c529f-a580-40eb-8985-85a429cd7453 button.colab-df-convert');\n",
              "      buttonEl.style.display =\n",
              "        google.colab.kernel.accessAllowed ? 'block' : 'none';\n",
              "\n",
              "      async function convertToInteractive(key) {\n",
              "        const element = document.querySelector('#df-d65c529f-a580-40eb-8985-85a429cd7453');\n",
              "        const dataTable =\n",
              "          await google.colab.kernel.invokeFunction('convertToInteractive',\n",
              "                                                    [key], {});\n",
              "        if (!dataTable) return;\n",
              "\n",
              "        const docLinkHtml = 'Like what you see? Visit the ' +\n",
              "          '<a target=\"_blank\" href=https://colab.research.google.com/notebooks/data_table.ipynb>data table notebook</a>'\n",
              "          + ' to learn more about interactive tables.';\n",
              "        element.innerHTML = '';\n",
              "        dataTable['output_type'] = 'display_data';\n",
              "        await google.colab.output.renderOutput(dataTable, element);\n",
              "        const docLink = document.createElement('div');\n",
              "        docLink.innerHTML = docLinkHtml;\n",
              "        element.appendChild(docLink);\n",
              "      }\n",
              "    </script>\n",
              "  </div>\n",
              "\n",
              "\n",
              "<div id=\"df-626ddb08-395c-4039-8abc-00f0dcc42888\">\n",
              "  <button class=\"colab-df-quickchart\" onclick=\"quickchart('df-626ddb08-395c-4039-8abc-00f0dcc42888')\"\n",
              "            title=\"Suggest charts\"\n",
              "            style=\"display:none;\">\n",
              "\n",
              "<svg xmlns=\"http://www.w3.org/2000/svg\" height=\"24px\"viewBox=\"0 0 24 24\"\n",
              "     width=\"24px\">\n",
              "    <g>\n",
              "        <path d=\"M19 3H5c-1.1 0-2 .9-2 2v14c0 1.1.9 2 2 2h14c1.1 0 2-.9 2-2V5c0-1.1-.9-2-2-2zM9 17H7v-7h2v7zm4 0h-2V7h2v10zm4 0h-2v-4h2v4z\"/>\n",
              "    </g>\n",
              "</svg>\n",
              "  </button>\n",
              "\n",
              "<style>\n",
              "  .colab-df-quickchart {\n",
              "      --bg-color: #E8F0FE;\n",
              "      --fill-color: #1967D2;\n",
              "      --hover-bg-color: #E2EBFA;\n",
              "      --hover-fill-color: #174EA6;\n",
              "      --disabled-fill-color: #AAA;\n",
              "      --disabled-bg-color: #DDD;\n",
              "  }\n",
              "\n",
              "  [theme=dark] .colab-df-quickchart {\n",
              "      --bg-color: #3B4455;\n",
              "      --fill-color: #D2E3FC;\n",
              "      --hover-bg-color: #434B5C;\n",
              "      --hover-fill-color: #FFFFFF;\n",
              "      --disabled-bg-color: #3B4455;\n",
              "      --disabled-fill-color: #666;\n",
              "  }\n",
              "\n",
              "  .colab-df-quickchart {\n",
              "    background-color: var(--bg-color);\n",
              "    border: none;\n",
              "    border-radius: 50%;\n",
              "    cursor: pointer;\n",
              "    display: none;\n",
              "    fill: var(--fill-color);\n",
              "    height: 32px;\n",
              "    padding: 0;\n",
              "    width: 32px;\n",
              "  }\n",
              "\n",
              "  .colab-df-quickchart:hover {\n",
              "    background-color: var(--hover-bg-color);\n",
              "    box-shadow: 0 1px 2px rgba(60, 64, 67, 0.3), 0 1px 3px 1px rgba(60, 64, 67, 0.15);\n",
              "    fill: var(--button-hover-fill-color);\n",
              "  }\n",
              "\n",
              "  .colab-df-quickchart-complete:disabled,\n",
              "  .colab-df-quickchart-complete:disabled:hover {\n",
              "    background-color: var(--disabled-bg-color);\n",
              "    fill: var(--disabled-fill-color);\n",
              "    box-shadow: none;\n",
              "  }\n",
              "\n",
              "  .colab-df-spinner {\n",
              "    border: 2px solid var(--fill-color);\n",
              "    border-color: transparent;\n",
              "    border-bottom-color: var(--fill-color);\n",
              "    animation:\n",
              "      spin 1s steps(1) infinite;\n",
              "  }\n",
              "\n",
              "  @keyframes spin {\n",
              "    0% {\n",
              "      border-color: transparent;\n",
              "      border-bottom-color: var(--fill-color);\n",
              "      border-left-color: var(--fill-color);\n",
              "    }\n",
              "    20% {\n",
              "      border-color: transparent;\n",
              "      border-left-color: var(--fill-color);\n",
              "      border-top-color: var(--fill-color);\n",
              "    }\n",
              "    30% {\n",
              "      border-color: transparent;\n",
              "      border-left-color: var(--fill-color);\n",
              "      border-top-color: var(--fill-color);\n",
              "      border-right-color: var(--fill-color);\n",
              "    }\n",
              "    40% {\n",
              "      border-color: transparent;\n",
              "      border-right-color: var(--fill-color);\n",
              "      border-top-color: var(--fill-color);\n",
              "    }\n",
              "    60% {\n",
              "      border-color: transparent;\n",
              "      border-right-color: var(--fill-color);\n",
              "    }\n",
              "    80% {\n",
              "      border-color: transparent;\n",
              "      border-right-color: var(--fill-color);\n",
              "      border-bottom-color: var(--fill-color);\n",
              "    }\n",
              "    90% {\n",
              "      border-color: transparent;\n",
              "      border-bottom-color: var(--fill-color);\n",
              "    }\n",
              "  }\n",
              "</style>\n",
              "\n",
              "  <script>\n",
              "    async function quickchart(key) {\n",
              "      const quickchartButtonEl =\n",
              "        document.querySelector('#' + key + ' button');\n",
              "      quickchartButtonEl.disabled = true;  // To prevent multiple clicks.\n",
              "      quickchartButtonEl.classList.add('colab-df-spinner');\n",
              "      try {\n",
              "        const charts = await google.colab.kernel.invokeFunction(\n",
              "            'suggestCharts', [key], {});\n",
              "      } catch (error) {\n",
              "        console.error('Error during call to suggestCharts:', error);\n",
              "      }\n",
              "      quickchartButtonEl.classList.remove('colab-df-spinner');\n",
              "      quickchartButtonEl.classList.add('colab-df-quickchart-complete');\n",
              "    }\n",
              "    (() => {\n",
              "      let quickchartButtonEl =\n",
              "        document.querySelector('#df-626ddb08-395c-4039-8abc-00f0dcc42888 button');\n",
              "      quickchartButtonEl.style.display =\n",
              "        google.colab.kernel.accessAllowed ? 'block' : 'none';\n",
              "    })();\n",
              "  </script>\n",
              "</div>\n",
              "\n",
              "    </div>\n",
              "  </div>\n"
            ],
            "application/vnd.google.colaboratory.intrinsic+json": {
              "type": "dataframe",
              "variable_name": "info_df",
              "summary": "{\n  \"name\": \"info_df\",\n  \"rows\": 13,\n  \"fields\": [\n    {\n      \"column\": \"num_records\",\n      \"properties\": {\n        \"dtype\": \"number\",\n        \"std\": 802071.1023923069,\n        \"min\": 184973.0,\n        \"max\": 3000000.0,\n        \"num_unique_values\": 6,\n        \"samples\": [\n          999999.0,\n          1917247.0,\n          1193514.0\n        ],\n        \"semantic_type\": \"\",\n        \"description\": \"\"\n      }\n    },\n    {\n      \"column\": \"file_size\",\n      \"properties\": {\n        \"dtype\": \"number\",\n        \"std\": 531302770.84386355,\n        \"min\": 69182535.0,\n        \"max\": 1743563840.0,\n        \"num_unique_values\": 12,\n        \"samples\": [\n          405932991.0,\n          209216938.0,\n          1005007116.0\n        ],\n        \"semantic_type\": \"\",\n        \"description\": \"\"\n      }\n    },\n    {\n      \"column\": \"base_dataset\",\n      \"properties\": {\n        \"dtype\": \"category\",\n        \"num_unique_values\": 6,\n        \"samples\": [\n          \"Wikipedia 2017, UMBC webbase corpus and statmt.org news dataset (16B tokens)\",\n          \"ConceptNet, word2vec, GloVe, and OpenSubtitles 2016\",\n          \"Twitter (2B tweets, 27B tokens, 1.2M vocab, uncased)\"\n        ],\n        \"semantic_type\": \"\",\n        \"description\": \"\"\n      }\n    },\n    {\n      \"column\": \"reader_code\",\n      \"properties\": {\n        \"dtype\": \"string\",\n        \"num_unique_values\": 12,\n        \"samples\": [\n          \"https://github.com/RaRe-Technologies/gensim-data/releases/download/glove-twitter-100/__init__.py\",\n          \"https://github.com/RaRe-Technologies/gensim-data/releases/download/glove-twitter-50/__init__.py\",\n          \"https://github.com/RaRe-Technologies/gensim-data/releases/download/fasttext-wiki-news-subwords-300/__init__.py\"\n        ],\n        \"semantic_type\": \"\",\n        \"description\": \"\"\n      }\n    },\n    {\n      \"column\": \"license\",\n      \"properties\": {\n        \"dtype\": \"category\",\n        \"num_unique_values\": 5,\n        \"samples\": [\n          \"https://github.com/commonsense/conceptnet-numberbatch/blob/master/LICENSE.txt\",\n          \"http://opendatacommons.org/licenses/pddl/\",\n          \"https://creativecommons.org/licenses/by/4.0/deed.en\"\n        ],\n        \"semantic_type\": \"\",\n        \"description\": \"\"\n      }\n    },\n    {\n      \"column\": \"parameters\",\n      \"properties\": {\n        \"dtype\": \"object\",\n        \"semantic_type\": \"\",\n        \"description\": \"\"\n      }\n    },\n    {\n      \"column\": \"description\",\n      \"properties\": {\n        \"dtype\": \"string\",\n        \"num_unique_values\": 10,\n        \"samples\": [\n          \"Pre-trained vectors based on  2B tweets, 27B tokens, 1.2M vocab, uncased (https://nlp.stanford.edu/projects/glove/)\",\n          \"ConceptNet Numberbatch consists of state-of-the-art semantic vectors (also known as word embeddings) that can be used directly as a representation of word meanings or as a starting point for further machine learning. ConceptNet Numberbatch is part of the ConceptNet open data project. ConceptNet provides lots of ways to compute with word meanings, one of which is word embeddings. ConceptNet Numberbatch is a snapshot of just the word embeddings. It is built using an ensemble that combines data from ConceptNet, word2vec, GloVe, and OpenSubtitles 2016, using a variation on retrofitting.\",\n          \"Pre-trained vectors based on Wikipedia 2014 + Gigaword 5.6B tokens, 400K vocab, uncased (https://nlp.stanford.edu/projects/glove/).\"\n        ],\n        \"semantic_type\": \"\",\n        \"description\": \"\"\n      }\n    },\n    {\n      \"column\": \"read_more\",\n      \"properties\": {\n        \"dtype\": \"object\",\n        \"semantic_type\": \"\",\n        \"description\": \"\"\n      }\n    },\n    {\n      \"column\": \"checksum\",\n      \"properties\": {\n        \"dtype\": \"string\",\n        \"num_unique_values\": 13,\n        \"samples\": [\n          \"e52e8392d1860b95d5308a525817d8f9\",\n          \"c168f18641f8c8a00fe30984c4799b2b\",\n          \"de2bb3a20c46ce65c9c131e1ad9a77af\"\n        ],\n        \"semantic_type\": \"\",\n        \"description\": \"\"\n      }\n    },\n    {\n      \"column\": \"file_name\",\n      \"properties\": {\n        \"dtype\": \"string\",\n        \"num_unique_values\": 13,\n        \"samples\": [\n          \"glove-twitter-200.gz\",\n          \"glove-twitter-50.gz\",\n          \"fasttext-wiki-news-subwords-300.gz\"\n        ],\n        \"semantic_type\": \"\",\n        \"description\": \"\"\n      }\n    },\n    {\n      \"column\": \"parts\",\n      \"properties\": {\n        \"dtype\": \"number\",\n        \"std\": 0,\n        \"min\": 1,\n        \"max\": 1,\n        \"num_unique_values\": 1,\n        \"samples\": [\n          1\n        ],\n        \"semantic_type\": \"\",\n        \"description\": \"\"\n      }\n    },\n    {\n      \"column\": \"preprocessing\",\n      \"properties\": {\n        \"dtype\": \"string\",\n        \"num_unique_values\": 10,\n        \"samples\": [\n          \"Converted to w2v format with `python -m gensim.scripts.glove2word2vec -i <fname> -o glove-twitter-200.txt`.\"\n        ],\n        \"semantic_type\": \"\",\n        \"description\": \"\"\n      }\n    }\n  ]\n}"
            }
          },
          "metadata": {},
          "execution_count": 7
        }
      ],
      "source": [
        "# full list of columns\n",
        "info_df.head(3)"
      ]
    },
    {
      "cell_type": "code",
      "execution_count": 8,
      "metadata": {
        "ExecuteTime": {
          "end_time": "2023-01-07T14:14:46.834429Z",
          "start_time": "2023-01-07T14:14:46.793383Z"
        },
        "id": "9tcGmQNozDt5"
      },
      "outputs": [],
      "source": [
        "pd.options.display.float_format = '{:.2f}'.format"
      ]
    },
    {
      "cell_type": "code",
      "execution_count": 9,
      "metadata": {
        "ExecuteTime": {
          "end_time": "2023-01-07T14:15:18.345895Z",
          "start_time": "2023-01-07T14:14:46.837368Z"
        },
        "colab": {
          "base_uri": "https://localhost:8080/"
        },
        "id": "gOZE9kB3zDt5",
        "outputId": "a13dff4f-c55c-4e4f-9975-96ca0b608880"
      },
      "outputs": [
        {
          "output_type": "stream",
          "name": "stdout",
          "text": [
            "[==================================================] 100.0% 66.0/66.0MB downloaded\n"
          ]
        }
      ],
      "source": [
        "model = api.load(\"glove-wiki-gigaword-50\")"
      ]
    },
    {
      "cell_type": "markdown",
      "metadata": {
        "id": "sxgmqLIfzDt6"
      },
      "source": [
        "\n",
        "\n",
        "```\n",
        "# This is formatted as code\n",
        "```\n",
        "\n",
        "## Similarity Queries\n"
      ]
    },
    {
      "cell_type": "code",
      "execution_count": 10,
      "metadata": {
        "ExecuteTime": {
          "end_time": "2023-01-07T14:15:18.394047Z",
          "start_time": "2023-01-07T14:15:18.349425Z"
        },
        "colab": {
          "base_uri": "https://localhost:8080/",
          "height": 36
        },
        "id": "DdrRyYaUzDt6",
        "outputId": "74cd99f5-749e-4aae-fb35-3fb0c5c70f58"
      },
      "outputs": [
        {
          "output_type": "execute_result",
          "data": {
            "text/plain": [
              "'%.2f'"
            ],
            "application/vnd.google.colaboratory.intrinsic+json": {
              "type": "string"
            }
          },
          "metadata": {},
          "execution_count": 10
        }
      ],
      "source": [
        "%precision 2"
      ]
    },
    {
      "cell_type": "code",
      "execution_count": 11,
      "metadata": {
        "ExecuteTime": {
          "end_time": "2023-01-07T14:15:18.455589Z",
          "start_time": "2023-01-07T14:15:18.400298Z"
        },
        "colab": {
          "base_uri": "https://localhost:8080/"
        },
        "id": "gSN_0dlzzDt7",
        "outputId": "ce6ead2d-e5fc-4497-f158-e89be918eff0"
      },
      "outputs": [
        {
          "output_type": "stream",
          "name": "stdout",
          "text": [
            "Vector size: 50\n",
            "v_king  = [ 0.5   0.69 -0.6  -0.02  0.6  -0.13 -0.09  0.47 -0.62 -0.31]\n",
            "v_queen = [ 0.38  1.82 -1.26 -0.1   0.36  0.6  -0.18  0.84 -0.06 -0.76]\n",
            "similarity: 0.7839043\n"
          ]
        }
      ],
      "source": [
        "v_king = model['king']\n",
        "v_queen = model['queen']\n",
        "\n",
        "print(\"Vector size:\", model.vector_size)\n",
        "print(\"v_king  =\", v_king[:10])\n",
        "print(\"v_queen =\", v_queen[:10])\n",
        "print(\"similarity:\", model.similarity('king', 'queen'))"
      ]
    },
    {
      "cell_type": "code",
      "execution_count": 12,
      "metadata": {
        "ExecuteTime": {
          "end_time": "2023-01-07T14:15:18.505597Z",
          "start_time": "2023-01-07T14:15:18.458866Z"
        },
        "colab": {
          "base_uri": "https://localhost:8080/",
          "height": 36
        },
        "id": "ELlWAqs8zDt7",
        "outputId": "a9f80850-17f9-427c-bb2d-c614db50ec45"
      },
      "outputs": [
        {
          "output_type": "execute_result",
          "data": {
            "text/plain": [
              "'%.3f'"
            ],
            "application/vnd.google.colaboratory.intrinsic+json": {
              "type": "string"
            }
          },
          "metadata": {},
          "execution_count": 12
        }
      ],
      "source": [
        "%precision 3"
      ]
    },
    {
      "cell_type": "code",
      "execution_count": 13,
      "metadata": {
        "ExecuteTime": {
          "end_time": "2023-01-07T14:15:18.705313Z",
          "start_time": "2023-01-07T14:15:18.511717Z"
        },
        "colab": {
          "base_uri": "https://localhost:8080/"
        },
        "id": "peTxzKYRzDt8",
        "outputId": "9ec7e8c6-79ef-4713-c000-88e4047e2067"
      },
      "outputs": [
        {
          "output_type": "execute_result",
          "data": {
            "text/plain": [
              "[('prince', 0.824), ('queen', 0.784), ('ii', 0.775)]"
            ]
          },
          "metadata": {},
          "execution_count": 13
        }
      ],
      "source": [
        "model.most_similar('king', topn=3)"
      ]
    },
    {
      "cell_type": "code",
      "execution_count": 14,
      "metadata": {
        "ExecuteTime": {
          "end_time": "2023-01-07T14:15:18.788216Z",
          "start_time": "2023-01-07T14:15:18.708169Z"
        },
        "colab": {
          "base_uri": "https://localhost:8080/"
        },
        "id": "EYOxUH-lzDt8",
        "outputId": "efd660fd-3626-4489-bc83-676d9493a879"
      },
      "outputs": [
        {
          "output_type": "execute_result",
          "data": {
            "text/plain": [
              "array([ 0.784,  0.478, -0.255], dtype=float32)"
            ]
          },
          "metadata": {},
          "execution_count": 14
        }
      ],
      "source": [
        "v_lion = model['lion']\n",
        "v_nano = model['nanotechnology']\n",
        "\n",
        "model.cosine_similarities(v_king, [v_queen, v_lion, v_nano])"
      ]
    },
    {
      "cell_type": "code",
      "execution_count": 15,
      "metadata": {
        "ExecuteTime": {
          "end_time": "2023-01-07T14:15:18.884399Z",
          "start_time": "2023-01-07T14:15:18.790804Z"
        },
        "colab": {
          "base_uri": "https://localhost:8080/"
        },
        "id": "0138-TOEzDt8",
        "outputId": "30b8b372-1148-41a7-cfd6-416e7ac65296"
      },
      "outputs": [
        {
          "output_type": "execute_result",
          "data": {
            "text/plain": [
              "[('queen', 0.852), ('throne', 0.766), ('prince', 0.759)]"
            ]
          },
          "metadata": {},
          "execution_count": 15
        }
      ],
      "source": [
        "model.most_similar(positive=['woman', 'king'], negative=['man'], topn=3)"
      ]
    },
    {
      "cell_type": "code",
      "execution_count": 16,
      "metadata": {
        "ExecuteTime": {
          "end_time": "2023-01-07T14:15:18.978205Z",
          "start_time": "2023-01-07T14:15:18.889307Z"
        },
        "colab": {
          "base_uri": "https://localhost:8080/"
        },
        "id": "_0iX_sEGzDt8",
        "outputId": "9fd2ec3c-61dd-469a-c657-eedc4322e964"
      },
      "outputs": [
        {
          "output_type": "execute_result",
          "data": {
            "text/plain": [
              "[('berlin', 0.920), ('frankfurt', 0.820), ('vienna', 0.818)]"
            ]
          },
          "metadata": {},
          "execution_count": 16
        }
      ],
      "source": [
        "model.most_similar(positive=['paris', 'germany'], negative=['france'], topn=3)"
      ]
    },
    {
      "cell_type": "code",
      "execution_count": 17,
      "metadata": {
        "ExecuteTime": {
          "end_time": "2023-01-07T14:15:19.079083Z",
          "start_time": "2023-01-07T14:15:18.982919Z"
        },
        "colab": {
          "base_uri": "https://localhost:8080/"
        },
        "id": "sU_6YC5uzDt9",
        "outputId": "1f84968a-b598-43af-e0ce-2baaedbbc9d5"
      },
      "outputs": [
        {
          "output_type": "execute_result",
          "data": {
            "text/plain": [
              "[('paris', 0.784)]"
            ]
          },
          "metadata": {},
          "execution_count": 17
        }
      ],
      "source": [
        "model.most_similar(positive=['france', 'capital'], topn=1)"
      ]
    },
    {
      "cell_type": "code",
      "execution_count": 18,
      "metadata": {
        "ExecuteTime": {
          "end_time": "2023-01-07T14:15:19.182352Z",
          "start_time": "2023-01-07T14:15:19.086595Z"
        },
        "colab": {
          "base_uri": "https://localhost:8080/"
        },
        "id": "Tqj-3nvIzDt9",
        "outputId": "b4345f4a-a951-469a-e4a5-ac31a79a519e"
      },
      "outputs": [
        {
          "output_type": "execute_result",
          "data": {
            "text/plain": [
              "[('central', 0.797), ('western', 0.757), ('region', 0.750)]"
            ]
          },
          "metadata": {},
          "execution_count": 18
        }
      ],
      "source": [
        "model.most_similar(positive=['greece', 'capital'], topn=3)"
      ]
    },
    {
      "cell_type": "markdown",
      "metadata": {
        "id": "p_4WU_1mzDt9"
      },
      "source": [
        "# Blueprints for Training and Evaluation of Your Own Embeddings\n"
      ]
    },
    {
      "cell_type": "markdown",
      "metadata": {
        "id": "AaUGSE-6zDt9"
      },
      "source": [
        "## Data Preparation\n"
      ]
    },
    {
      "cell_type": "code",
      "execution_count": 19,
      "metadata": {
        "ExecuteTime": {
          "end_time": "2023-01-07T14:15:20.692736Z",
          "start_time": "2023-01-07T14:15:19.190380Z"
        },
        "id": "EuK909sQzDt-"
      },
      "outputs": [],
      "source": [
        "db_name = \"reddit-selfposts.db\"\n",
        "db_name = f\"{BASE_DIR}/data/reddit-selfposts/reddit-selfposts-ch10.db\" ### real location\n",
        "con = sqlite3.connect(db_name)\n",
        "df = pd.read_sql(\"select subreddit, lemmas, text from posts_nlp\", con)\n",
        "con.close()\n",
        "\n",
        "df['lemmas'] = df['lemmas'].str.lower().str.split() # lower case tokens\n",
        "sents = df['lemmas'] # our training \"sentences\""
      ]
    },
    {
      "cell_type": "markdown",
      "metadata": {
        "id": "skQXuFDuzDt-"
      },
      "source": [
        "### Phrases\n"
      ]
    },
    {
      "cell_type": "code",
      "execution_count": 20,
      "metadata": {
        "ExecuteTime": {
          "end_time": "2023-01-07T14:15:23.186566Z",
          "start_time": "2023-01-07T14:15:20.695406Z"
        },
        "id": "GKR09j9gzDt-"
      },
      "outputs": [],
      "source": [
        "from gensim.models.phrases import Phrases, npmi_scorer\n",
        "import gensim\n",
        "\n",
        "# solved compatibility issue for Gensim 4.x\n",
        "if gensim.__version__[0] > '3': # gensim 4.x string delimiter\n",
        "    delim = '-'\n",
        "else: # gensim 3.x - byte delimiter\n",
        "    delim = b'-'\n",
        "\n",
        "phrases = Phrases(sents, min_count=10, threshold=0.3,\n",
        "                  delimiter=delim, scoring=npmi_scorer)"
      ]
    },
    {
      "cell_type": "code",
      "execution_count": 21,
      "metadata": {
        "ExecuteTime": {
          "end_time": "2023-01-07T14:15:23.239096Z",
          "start_time": "2023-01-07T14:15:23.188995Z"
        },
        "colab": {
          "base_uri": "https://localhost:8080/"
        },
        "id": "H9c5ZHnKzDuA",
        "outputId": "c85dae3d-7ff1-4ab1-d961-c377d70210b4"
      },
      "outputs": [
        {
          "output_type": "stream",
          "name": "stdout",
          "text": [
            "I|had|to|replace|the|timing-belt|in|my|mercedes-c300\n"
          ]
        }
      ],
      "source": [
        "sent = \"I had to replace the timing belt in my mercedes c300\".split()\n",
        "phrased = phrases[sent]\n",
        "print('|'.join(phrased))"
      ]
    },
    {
      "cell_type": "code",
      "execution_count": 22,
      "metadata": {
        "ExecuteTime": {
          "end_time": "2023-01-07T14:15:30.792763Z",
          "start_time": "2023-01-07T14:15:23.242293Z"
        },
        "id": "dPFiDk0zzDuD"
      },
      "outputs": [],
      "source": [
        "# solved compatibility issue for Gensim 4.x\n",
        "if gensim.__version__[0] > '3': # gensim 4.x - find_phrases / string phrases\n",
        "\n",
        "    phrase_df = pd.DataFrame(phrases.find_phrases(sents),\n",
        "                             columns =['phrase', 'score'])\n",
        "    phrase_df = pd.DataFrame.from_dict(phrases.find_phrases(sents), orient='index').reset_index()\n",
        "    phrase_df.columns = ['phrase', 'score']\n",
        "    phrase_df = phrase_df[['phrase', 'score']].drop_duplicates() \\\n",
        "            .sort_values(by='score', ascending=False).reset_index(drop=True)\n",
        "\n",
        "else: # gensim 3.x - export_phrases / byte phrases\n",
        "    phrase_df = pd.DataFrame(phrases.export_phrases(sents, out_delimiter=delim),\n",
        "                             columns =['phrase', 'score'])\n",
        "    phrase_df = phrase_df[['phrase', 'score']].drop_duplicates() \\\n",
        "        .sort_values(by='score', ascending=False).reset_index(drop=True)\n",
        "    phrase_df['phrase'] = phrase_df['phrase'].map(lambda p: p.decode('utf-8'))"
      ]
    },
    {
      "cell_type": "code",
      "execution_count": 23,
      "metadata": {
        "ExecuteTime": {
          "end_time": "2023-01-07T14:15:30.852745Z",
          "start_time": "2023-01-07T14:15:30.794879Z"
        },
        "colab": {
          "base_uri": "https://localhost:8080/",
          "height": 112
        },
        "id": "7hO-coqozDuD",
        "outputId": "3536eb69-5cb7-4109-bb3e-eb50a17a9e9a"
      },
      "outputs": [
        {
          "output_type": "execute_result",
          "data": {
            "text/plain": [
              "             phrase  score\n",
              "83    mercedes-benz   0.80\n",
              "1416  mercedes-c300   0.47"
            ],
            "text/html": [
              "\n",
              "  <div id=\"df-6cdd8019-5272-4123-9140-38d45f9a95c9\" class=\"colab-df-container\">\n",
              "    <div>\n",
              "<style scoped>\n",
              "    .dataframe tbody tr th:only-of-type {\n",
              "        vertical-align: middle;\n",
              "    }\n",
              "\n",
              "    .dataframe tbody tr th {\n",
              "        vertical-align: top;\n",
              "    }\n",
              "\n",
              "    .dataframe thead th {\n",
              "        text-align: right;\n",
              "    }\n",
              "</style>\n",
              "<table border=\"1\" class=\"dataframe tex2jax_ignore\">\n",
              "  <thead>\n",
              "    <tr style=\"text-align: right;\">\n",
              "      <th></th>\n",
              "      <th>phrase</th>\n",
              "      <th>score</th>\n",
              "    </tr>\n",
              "  </thead>\n",
              "  <tbody>\n",
              "    <tr>\n",
              "      <th>83</th>\n",
              "      <td>mercedes-benz</td>\n",
              "      <td>0.80</td>\n",
              "    </tr>\n",
              "    <tr>\n",
              "      <th>1416</th>\n",
              "      <td>mercedes-c300</td>\n",
              "      <td>0.47</td>\n",
              "    </tr>\n",
              "  </tbody>\n",
              "</table>\n",
              "</div>\n",
              "    <div class=\"colab-df-buttons\">\n",
              "\n",
              "  <div class=\"colab-df-container\">\n",
              "    <button class=\"colab-df-convert\" onclick=\"convertToInteractive('df-6cdd8019-5272-4123-9140-38d45f9a95c9')\"\n",
              "            title=\"Convert this dataframe to an interactive table.\"\n",
              "            style=\"display:none;\">\n",
              "\n",
              "  <svg xmlns=\"http://www.w3.org/2000/svg\" height=\"24px\" viewBox=\"0 -960 960 960\">\n",
              "    <path d=\"M120-120v-720h720v720H120Zm60-500h600v-160H180v160Zm220 220h160v-160H400v160Zm0 220h160v-160H400v160ZM180-400h160v-160H180v160Zm440 0h160v-160H620v160ZM180-180h160v-160H180v160Zm440 0h160v-160H620v160Z\"/>\n",
              "  </svg>\n",
              "    </button>\n",
              "\n",
              "  <style>\n",
              "    .colab-df-container {\n",
              "      display:flex;\n",
              "      gap: 12px;\n",
              "    }\n",
              "\n",
              "    .colab-df-convert {\n",
              "      background-color: #E8F0FE;\n",
              "      border: none;\n",
              "      border-radius: 50%;\n",
              "      cursor: pointer;\n",
              "      display: none;\n",
              "      fill: #1967D2;\n",
              "      height: 32px;\n",
              "      padding: 0 0 0 0;\n",
              "      width: 32px;\n",
              "    }\n",
              "\n",
              "    .colab-df-convert:hover {\n",
              "      background-color: #E2EBFA;\n",
              "      box-shadow: 0px 1px 2px rgba(60, 64, 67, 0.3), 0px 1px 3px 1px rgba(60, 64, 67, 0.15);\n",
              "      fill: #174EA6;\n",
              "    }\n",
              "\n",
              "    .colab-df-buttons div {\n",
              "      margin-bottom: 4px;\n",
              "    }\n",
              "\n",
              "    [theme=dark] .colab-df-convert {\n",
              "      background-color: #3B4455;\n",
              "      fill: #D2E3FC;\n",
              "    }\n",
              "\n",
              "    [theme=dark] .colab-df-convert:hover {\n",
              "      background-color: #434B5C;\n",
              "      box-shadow: 0px 1px 3px 1px rgba(0, 0, 0, 0.15);\n",
              "      filter: drop-shadow(0px 1px 2px rgba(0, 0, 0, 0.3));\n",
              "      fill: #FFFFFF;\n",
              "    }\n",
              "  </style>\n",
              "\n",
              "    <script>\n",
              "      const buttonEl =\n",
              "        document.querySelector('#df-6cdd8019-5272-4123-9140-38d45f9a95c9 button.colab-df-convert');\n",
              "      buttonEl.style.display =\n",
              "        google.colab.kernel.accessAllowed ? 'block' : 'none';\n",
              "\n",
              "      async function convertToInteractive(key) {\n",
              "        const element = document.querySelector('#df-6cdd8019-5272-4123-9140-38d45f9a95c9');\n",
              "        const dataTable =\n",
              "          await google.colab.kernel.invokeFunction('convertToInteractive',\n",
              "                                                    [key], {});\n",
              "        if (!dataTable) return;\n",
              "\n",
              "        const docLinkHtml = 'Like what you see? Visit the ' +\n",
              "          '<a target=\"_blank\" href=https://colab.research.google.com/notebooks/data_table.ipynb>data table notebook</a>'\n",
              "          + ' to learn more about interactive tables.';\n",
              "        element.innerHTML = '';\n",
              "        dataTable['output_type'] = 'display_data';\n",
              "        await google.colab.output.renderOutput(dataTable, element);\n",
              "        const docLink = document.createElement('div');\n",
              "        docLink.innerHTML = docLinkHtml;\n",
              "        element.appendChild(docLink);\n",
              "      }\n",
              "    </script>\n",
              "  </div>\n",
              "\n",
              "\n",
              "<div id=\"df-1fceed92-6053-4600-b331-788483106d89\">\n",
              "  <button class=\"colab-df-quickchart\" onclick=\"quickchart('df-1fceed92-6053-4600-b331-788483106d89')\"\n",
              "            title=\"Suggest charts\"\n",
              "            style=\"display:none;\">\n",
              "\n",
              "<svg xmlns=\"http://www.w3.org/2000/svg\" height=\"24px\"viewBox=\"0 0 24 24\"\n",
              "     width=\"24px\">\n",
              "    <g>\n",
              "        <path d=\"M19 3H5c-1.1 0-2 .9-2 2v14c0 1.1.9 2 2 2h14c1.1 0 2-.9 2-2V5c0-1.1-.9-2-2-2zM9 17H7v-7h2v7zm4 0h-2V7h2v10zm4 0h-2v-4h2v4z\"/>\n",
              "    </g>\n",
              "</svg>\n",
              "  </button>\n",
              "\n",
              "<style>\n",
              "  .colab-df-quickchart {\n",
              "      --bg-color: #E8F0FE;\n",
              "      --fill-color: #1967D2;\n",
              "      --hover-bg-color: #E2EBFA;\n",
              "      --hover-fill-color: #174EA6;\n",
              "      --disabled-fill-color: #AAA;\n",
              "      --disabled-bg-color: #DDD;\n",
              "  }\n",
              "\n",
              "  [theme=dark] .colab-df-quickchart {\n",
              "      --bg-color: #3B4455;\n",
              "      --fill-color: #D2E3FC;\n",
              "      --hover-bg-color: #434B5C;\n",
              "      --hover-fill-color: #FFFFFF;\n",
              "      --disabled-bg-color: #3B4455;\n",
              "      --disabled-fill-color: #666;\n",
              "  }\n",
              "\n",
              "  .colab-df-quickchart {\n",
              "    background-color: var(--bg-color);\n",
              "    border: none;\n",
              "    border-radius: 50%;\n",
              "    cursor: pointer;\n",
              "    display: none;\n",
              "    fill: var(--fill-color);\n",
              "    height: 32px;\n",
              "    padding: 0;\n",
              "    width: 32px;\n",
              "  }\n",
              "\n",
              "  .colab-df-quickchart:hover {\n",
              "    background-color: var(--hover-bg-color);\n",
              "    box-shadow: 0 1px 2px rgba(60, 64, 67, 0.3), 0 1px 3px 1px rgba(60, 64, 67, 0.15);\n",
              "    fill: var(--button-hover-fill-color);\n",
              "  }\n",
              "\n",
              "  .colab-df-quickchart-complete:disabled,\n",
              "  .colab-df-quickchart-complete:disabled:hover {\n",
              "    background-color: var(--disabled-bg-color);\n",
              "    fill: var(--disabled-fill-color);\n",
              "    box-shadow: none;\n",
              "  }\n",
              "\n",
              "  .colab-df-spinner {\n",
              "    border: 2px solid var(--fill-color);\n",
              "    border-color: transparent;\n",
              "    border-bottom-color: var(--fill-color);\n",
              "    animation:\n",
              "      spin 1s steps(1) infinite;\n",
              "  }\n",
              "\n",
              "  @keyframes spin {\n",
              "    0% {\n",
              "      border-color: transparent;\n",
              "      border-bottom-color: var(--fill-color);\n",
              "      border-left-color: var(--fill-color);\n",
              "    }\n",
              "    20% {\n",
              "      border-color: transparent;\n",
              "      border-left-color: var(--fill-color);\n",
              "      border-top-color: var(--fill-color);\n",
              "    }\n",
              "    30% {\n",
              "      border-color: transparent;\n",
              "      border-left-color: var(--fill-color);\n",
              "      border-top-color: var(--fill-color);\n",
              "      border-right-color: var(--fill-color);\n",
              "    }\n",
              "    40% {\n",
              "      border-color: transparent;\n",
              "      border-right-color: var(--fill-color);\n",
              "      border-top-color: var(--fill-color);\n",
              "    }\n",
              "    60% {\n",
              "      border-color: transparent;\n",
              "      border-right-color: var(--fill-color);\n",
              "    }\n",
              "    80% {\n",
              "      border-color: transparent;\n",
              "      border-right-color: var(--fill-color);\n",
              "      border-bottom-color: var(--fill-color);\n",
              "    }\n",
              "    90% {\n",
              "      border-color: transparent;\n",
              "      border-bottom-color: var(--fill-color);\n",
              "    }\n",
              "  }\n",
              "</style>\n",
              "\n",
              "  <script>\n",
              "    async function quickchart(key) {\n",
              "      const quickchartButtonEl =\n",
              "        document.querySelector('#' + key + ' button');\n",
              "      quickchartButtonEl.disabled = true;  // To prevent multiple clicks.\n",
              "      quickchartButtonEl.classList.add('colab-df-spinner');\n",
              "      try {\n",
              "        const charts = await google.colab.kernel.invokeFunction(\n",
              "            'suggestCharts', [key], {});\n",
              "      } catch (error) {\n",
              "        console.error('Error during call to suggestCharts:', error);\n",
              "      }\n",
              "      quickchartButtonEl.classList.remove('colab-df-spinner');\n",
              "      quickchartButtonEl.classList.add('colab-df-quickchart-complete');\n",
              "    }\n",
              "    (() => {\n",
              "      let quickchartButtonEl =\n",
              "        document.querySelector('#df-1fceed92-6053-4600-b331-788483106d89 button');\n",
              "      quickchartButtonEl.style.display =\n",
              "        google.colab.kernel.accessAllowed ? 'block' : 'none';\n",
              "    })();\n",
              "  </script>\n",
              "</div>\n",
              "\n",
              "    </div>\n",
              "  </div>\n"
            ],
            "application/vnd.google.colaboratory.intrinsic+json": {
              "type": "dataframe",
              "summary": "{\n  \"name\": \"phrase_df[phrase_df['phrase']\",\n  \"rows\": 2,\n  \"fields\": [\n    {\n      \"column\": \"phrase\",\n      \"properties\": {\n        \"dtype\": \"string\",\n        \"num_unique_values\": 2,\n        \"samples\": [\n          \"mercedes-c300\",\n          \"mercedes-benz\"\n        ],\n        \"semantic_type\": \"\",\n        \"description\": \"\"\n      }\n    },\n    {\n      \"column\": \"score\",\n      \"properties\": {\n        \"dtype\": \"number\",\n        \"std\": 0.22922222289696711,\n        \"min\": 0.4727653027927546,\n        \"max\": 0.7969344792109541,\n        \"num_unique_values\": 2,\n        \"samples\": [\n          0.4727653027927546,\n          0.7969344792109541\n        ],\n        \"semantic_type\": \"\",\n        \"description\": \"\"\n      }\n    }\n  ]\n}"
            }
          },
          "metadata": {},
          "execution_count": 23
        }
      ],
      "source": [
        "phrase_df[phrase_df['phrase'].str.contains('mercedes')] .head(3)"
      ]
    },
    {
      "cell_type": "code",
      "execution_count": 24,
      "metadata": {
        "ExecuteTime": {
          "end_time": "2023-01-07T14:15:31.092950Z",
          "start_time": "2023-01-07T14:15:30.855681Z"
        },
        "colab": {
          "base_uri": "https://localhost:8080/",
          "height": 423
        },
        "id": "NX_vRbGkzDuE",
        "outputId": "0a1ff204-44e1-4966-b5d7-1188e7adfe4a"
      },
      "outputs": [
        {
          "output_type": "execute_result",
          "data": {
            "text/plain": [
              "             phrase  score\n",
              "143      tax-credit   0.75\n",
              "26            tl-dr   0.92\n",
              "118       91-octane   0.77\n",
              "196         cla-250   0.72\n",
              "3       forty-eight   1.00\n",
              "..              ...    ...\n",
              "161  paddle-shifter   0.74\n",
              "59      timing-belt   0.83\n",
              "65          fat-bob   0.82\n",
              "155         f-sport   0.74\n",
              "56     lean-towards   0.83\n",
              "\n",
              "[100 rows x 2 columns]"
            ],
            "text/html": [
              "\n",
              "  <div id=\"df-2f2286ca-d68d-47b1-b7f5-fb3cd3dd58b0\" class=\"colab-df-container\">\n",
              "    <div>\n",
              "<style scoped>\n",
              "    .dataframe tbody tr th:only-of-type {\n",
              "        vertical-align: middle;\n",
              "    }\n",
              "\n",
              "    .dataframe tbody tr th {\n",
              "        vertical-align: top;\n",
              "    }\n",
              "\n",
              "    .dataframe thead th {\n",
              "        text-align: right;\n",
              "    }\n",
              "</style>\n",
              "<table border=\"1\" class=\"dataframe tex2jax_ignore\">\n",
              "  <thead>\n",
              "    <tr style=\"text-align: right;\">\n",
              "      <th></th>\n",
              "      <th>phrase</th>\n",
              "      <th>score</th>\n",
              "    </tr>\n",
              "  </thead>\n",
              "  <tbody>\n",
              "    <tr>\n",
              "      <th>143</th>\n",
              "      <td>tax-credit</td>\n",
              "      <td>0.75</td>\n",
              "    </tr>\n",
              "    <tr>\n",
              "      <th>26</th>\n",
              "      <td>tl-dr</td>\n",
              "      <td>0.92</td>\n",
              "    </tr>\n",
              "    <tr>\n",
              "      <th>118</th>\n",
              "      <td>91-octane</td>\n",
              "      <td>0.77</td>\n",
              "    </tr>\n",
              "    <tr>\n",
              "      <th>196</th>\n",
              "      <td>cla-250</td>\n",
              "      <td>0.72</td>\n",
              "    </tr>\n",
              "    <tr>\n",
              "      <th>3</th>\n",
              "      <td>forty-eight</td>\n",
              "      <td>1.00</td>\n",
              "    </tr>\n",
              "    <tr>\n",
              "      <th>...</th>\n",
              "      <td>...</td>\n",
              "      <td>...</td>\n",
              "    </tr>\n",
              "    <tr>\n",
              "      <th>161</th>\n",
              "      <td>paddle-shifter</td>\n",
              "      <td>0.74</td>\n",
              "    </tr>\n",
              "    <tr>\n",
              "      <th>59</th>\n",
              "      <td>timing-belt</td>\n",
              "      <td>0.83</td>\n",
              "    </tr>\n",
              "    <tr>\n",
              "      <th>65</th>\n",
              "      <td>fat-bob</td>\n",
              "      <td>0.82</td>\n",
              "    </tr>\n",
              "    <tr>\n",
              "      <th>155</th>\n",
              "      <td>f-sport</td>\n",
              "      <td>0.74</td>\n",
              "    </tr>\n",
              "    <tr>\n",
              "      <th>56</th>\n",
              "      <td>lean-towards</td>\n",
              "      <td>0.83</td>\n",
              "    </tr>\n",
              "  </tbody>\n",
              "</table>\n",
              "<p>100 rows × 2 columns</p>\n",
              "</div>\n",
              "    <div class=\"colab-df-buttons\">\n",
              "\n",
              "  <div class=\"colab-df-container\">\n",
              "    <button class=\"colab-df-convert\" onclick=\"convertToInteractive('df-2f2286ca-d68d-47b1-b7f5-fb3cd3dd58b0')\"\n",
              "            title=\"Convert this dataframe to an interactive table.\"\n",
              "            style=\"display:none;\">\n",
              "\n",
              "  <svg xmlns=\"http://www.w3.org/2000/svg\" height=\"24px\" viewBox=\"0 -960 960 960\">\n",
              "    <path d=\"M120-120v-720h720v720H120Zm60-500h600v-160H180v160Zm220 220h160v-160H400v160Zm0 220h160v-160H400v160ZM180-400h160v-160H180v160Zm440 0h160v-160H620v160ZM180-180h160v-160H180v160Zm440 0h160v-160H620v160Z\"/>\n",
              "  </svg>\n",
              "    </button>\n",
              "\n",
              "  <style>\n",
              "    .colab-df-container {\n",
              "      display:flex;\n",
              "      gap: 12px;\n",
              "    }\n",
              "\n",
              "    .colab-df-convert {\n",
              "      background-color: #E8F0FE;\n",
              "      border: none;\n",
              "      border-radius: 50%;\n",
              "      cursor: pointer;\n",
              "      display: none;\n",
              "      fill: #1967D2;\n",
              "      height: 32px;\n",
              "      padding: 0 0 0 0;\n",
              "      width: 32px;\n",
              "    }\n",
              "\n",
              "    .colab-df-convert:hover {\n",
              "      background-color: #E2EBFA;\n",
              "      box-shadow: 0px 1px 2px rgba(60, 64, 67, 0.3), 0px 1px 3px 1px rgba(60, 64, 67, 0.15);\n",
              "      fill: #174EA6;\n",
              "    }\n",
              "\n",
              "    .colab-df-buttons div {\n",
              "      margin-bottom: 4px;\n",
              "    }\n",
              "\n",
              "    [theme=dark] .colab-df-convert {\n",
              "      background-color: #3B4455;\n",
              "      fill: #D2E3FC;\n",
              "    }\n",
              "\n",
              "    [theme=dark] .colab-df-convert:hover {\n",
              "      background-color: #434B5C;\n",
              "      box-shadow: 0px 1px 3px 1px rgba(0, 0, 0, 0.15);\n",
              "      filter: drop-shadow(0px 1px 2px rgba(0, 0, 0, 0.3));\n",
              "      fill: #FFFFFF;\n",
              "    }\n",
              "  </style>\n",
              "\n",
              "    <script>\n",
              "      const buttonEl =\n",
              "        document.querySelector('#df-2f2286ca-d68d-47b1-b7f5-fb3cd3dd58b0 button.colab-df-convert');\n",
              "      buttonEl.style.display =\n",
              "        google.colab.kernel.accessAllowed ? 'block' : 'none';\n",
              "\n",
              "      async function convertToInteractive(key) {\n",
              "        const element = document.querySelector('#df-2f2286ca-d68d-47b1-b7f5-fb3cd3dd58b0');\n",
              "        const dataTable =\n",
              "          await google.colab.kernel.invokeFunction('convertToInteractive',\n",
              "                                                    [key], {});\n",
              "        if (!dataTable) return;\n",
              "\n",
              "        const docLinkHtml = 'Like what you see? Visit the ' +\n",
              "          '<a target=\"_blank\" href=https://colab.research.google.com/notebooks/data_table.ipynb>data table notebook</a>'\n",
              "          + ' to learn more about interactive tables.';\n",
              "        element.innerHTML = '';\n",
              "        dataTable['output_type'] = 'display_data';\n",
              "        await google.colab.output.renderOutput(dataTable, element);\n",
              "        const docLink = document.createElement('div');\n",
              "        docLink.innerHTML = docLinkHtml;\n",
              "        element.appendChild(docLink);\n",
              "      }\n",
              "    </script>\n",
              "  </div>\n",
              "\n",
              "\n",
              "<div id=\"df-0a7c2766-f1b5-4b9c-b29e-cc340db8d5b3\">\n",
              "  <button class=\"colab-df-quickchart\" onclick=\"quickchart('df-0a7c2766-f1b5-4b9c-b29e-cc340db8d5b3')\"\n",
              "            title=\"Suggest charts\"\n",
              "            style=\"display:none;\">\n",
              "\n",
              "<svg xmlns=\"http://www.w3.org/2000/svg\" height=\"24px\"viewBox=\"0 0 24 24\"\n",
              "     width=\"24px\">\n",
              "    <g>\n",
              "        <path d=\"M19 3H5c-1.1 0-2 .9-2 2v14c0 1.1.9 2 2 2h14c1.1 0 2-.9 2-2V5c0-1.1-.9-2-2-2zM9 17H7v-7h2v7zm4 0h-2V7h2v10zm4 0h-2v-4h2v4z\"/>\n",
              "    </g>\n",
              "</svg>\n",
              "  </button>\n",
              "\n",
              "<style>\n",
              "  .colab-df-quickchart {\n",
              "      --bg-color: #E8F0FE;\n",
              "      --fill-color: #1967D2;\n",
              "      --hover-bg-color: #E2EBFA;\n",
              "      --hover-fill-color: #174EA6;\n",
              "      --disabled-fill-color: #AAA;\n",
              "      --disabled-bg-color: #DDD;\n",
              "  }\n",
              "\n",
              "  [theme=dark] .colab-df-quickchart {\n",
              "      --bg-color: #3B4455;\n",
              "      --fill-color: #D2E3FC;\n",
              "      --hover-bg-color: #434B5C;\n",
              "      --hover-fill-color: #FFFFFF;\n",
              "      --disabled-bg-color: #3B4455;\n",
              "      --disabled-fill-color: #666;\n",
              "  }\n",
              "\n",
              "  .colab-df-quickchart {\n",
              "    background-color: var(--bg-color);\n",
              "    border: none;\n",
              "    border-radius: 50%;\n",
              "    cursor: pointer;\n",
              "    display: none;\n",
              "    fill: var(--fill-color);\n",
              "    height: 32px;\n",
              "    padding: 0;\n",
              "    width: 32px;\n",
              "  }\n",
              "\n",
              "  .colab-df-quickchart:hover {\n",
              "    background-color: var(--hover-bg-color);\n",
              "    box-shadow: 0 1px 2px rgba(60, 64, 67, 0.3), 0 1px 3px 1px rgba(60, 64, 67, 0.15);\n",
              "    fill: var(--button-hover-fill-color);\n",
              "  }\n",
              "\n",
              "  .colab-df-quickchart-complete:disabled,\n",
              "  .colab-df-quickchart-complete:disabled:hover {\n",
              "    background-color: var(--disabled-bg-color);\n",
              "    fill: var(--disabled-fill-color);\n",
              "    box-shadow: none;\n",
              "  }\n",
              "\n",
              "  .colab-df-spinner {\n",
              "    border: 2px solid var(--fill-color);\n",
              "    border-color: transparent;\n",
              "    border-bottom-color: var(--fill-color);\n",
              "    animation:\n",
              "      spin 1s steps(1) infinite;\n",
              "  }\n",
              "\n",
              "  @keyframes spin {\n",
              "    0% {\n",
              "      border-color: transparent;\n",
              "      border-bottom-color: var(--fill-color);\n",
              "      border-left-color: var(--fill-color);\n",
              "    }\n",
              "    20% {\n",
              "      border-color: transparent;\n",
              "      border-left-color: var(--fill-color);\n",
              "      border-top-color: var(--fill-color);\n",
              "    }\n",
              "    30% {\n",
              "      border-color: transparent;\n",
              "      border-left-color: var(--fill-color);\n",
              "      border-top-color: var(--fill-color);\n",
              "      border-right-color: var(--fill-color);\n",
              "    }\n",
              "    40% {\n",
              "      border-color: transparent;\n",
              "      border-right-color: var(--fill-color);\n",
              "      border-top-color: var(--fill-color);\n",
              "    }\n",
              "    60% {\n",
              "      border-color: transparent;\n",
              "      border-right-color: var(--fill-color);\n",
              "    }\n",
              "    80% {\n",
              "      border-color: transparent;\n",
              "      border-right-color: var(--fill-color);\n",
              "      border-bottom-color: var(--fill-color);\n",
              "    }\n",
              "    90% {\n",
              "      border-color: transparent;\n",
              "      border-bottom-color: var(--fill-color);\n",
              "    }\n",
              "  }\n",
              "</style>\n",
              "\n",
              "  <script>\n",
              "    async function quickchart(key) {\n",
              "      const quickchartButtonEl =\n",
              "        document.querySelector('#' + key + ' button');\n",
              "      quickchartButtonEl.disabled = true;  // To prevent multiple clicks.\n",
              "      quickchartButtonEl.classList.add('colab-df-spinner');\n",
              "      try {\n",
              "        const charts = await google.colab.kernel.invokeFunction(\n",
              "            'suggestCharts', [key], {});\n",
              "      } catch (error) {\n",
              "        console.error('Error during call to suggestCharts:', error);\n",
              "      }\n",
              "      quickchartButtonEl.classList.remove('colab-df-spinner');\n",
              "      quickchartButtonEl.classList.add('colab-df-quickchart-complete');\n",
              "    }\n",
              "    (() => {\n",
              "      let quickchartButtonEl =\n",
              "        document.querySelector('#df-0a7c2766-f1b5-4b9c-b29e-cc340db8d5b3 button');\n",
              "      quickchartButtonEl.style.display =\n",
              "        google.colab.kernel.accessAllowed ? 'block' : 'none';\n",
              "    })();\n",
              "  </script>\n",
              "</div>\n",
              "\n",
              "    </div>\n",
              "  </div>\n"
            ],
            "application/vnd.google.colaboratory.intrinsic+json": {
              "type": "dataframe",
              "summary": "{\n  \"name\": \"phrase_df\",\n  \"rows\": 100,\n  \"fields\": [\n    {\n      \"column\": \"phrase\",\n      \"properties\": {\n        \"dtype\": \"string\",\n        \"num_unique_values\": 100,\n        \"samples\": [\n          \"throttle-body\",\n          \"e-class\",\n          \"cb-antenna\"\n        ],\n        \"semantic_type\": \"\",\n        \"description\": \"\"\n      }\n    },\n    {\n      \"column\": \"score\",\n      \"properties\": {\n        \"dtype\": \"number\",\n        \"std\": 0.09162625169986177,\n        \"min\": 0.701362324498142,\n        \"max\": 1.2537092375403287,\n        \"num_unique_values\": 100,\n        \"samples\": [\n          0.7175361687615364,\n          0.8053683782130832,\n          0.7702738195774721\n        ],\n        \"semantic_type\": \"\",\n        \"description\": \"\"\n      }\n    }\n  ]\n}"
            }
          },
          "metadata": {},
          "execution_count": 24
        }
      ],
      "source": [
        "# show some additional phrases with score > 0.7\n",
        "phrase_df.query('score > 0.7').sample(100)"
      ]
    },
    {
      "cell_type": "code",
      "execution_count": 25,
      "metadata": {
        "ExecuteTime": {
          "end_time": "2023-01-07T14:15:38.123493Z",
          "start_time": "2023-01-07T14:15:31.095007Z"
        },
        "colab": {
          "base_uri": "https://localhost:8080/",
          "height": 49,
          "referenced_widgets": [
            "5d3fc936e9474995b41be413cfd93b01",
            "74f6863cca82402b8e9bb2e1a6b5f1bd",
            "7411016a1e534bee988582ab850f990c",
            "c583be5923044b7d81c2221195ffdc48",
            "88abc48613fa4db3a9f78a8c06c56335",
            "caa7538886d840ca9f4a7c3d37e60fa8",
            "e0c1f21d0ffa4f5d9af0e9cd6cb261ed",
            "d9cdebae07f14418ab5bad0a5e6a93c5",
            "9a12a672e18d4035a3b33b5bf5104a26",
            "668e34f43f0e45adaffc353dfbeb9f01",
            "9aaa8037c03e450abf302f53efa39428"
          ]
        },
        "id": "b3TbnJ8NzDuT",
        "outputId": "540af6b8-0579-4471-8d1b-a22cbe4dfff7"
      },
      "outputs": [
        {
          "output_type": "display_data",
          "data": {
            "text/plain": [
              "  0%|          | 0/20000 [00:00<?, ?it/s]"
            ],
            "application/vnd.jupyter.widget-view+json": {
              "version_major": 2,
              "version_minor": 0,
              "model_id": "5d3fc936e9474995b41be413cfd93b01"
            }
          },
          "metadata": {}
        }
      ],
      "source": [
        "logging.getLogger().setLevel(logging.WARNING) ###\n",
        "sents = df['lemmas'] ### like above\n",
        "phrases = Phrases(sents, min_count=10, threshold=0.7,\n",
        "                  delimiter=delim, scoring=npmi_scorer)\n",
        "\n",
        "df['phrased_lemmas'] = df['lemmas'].progress_map(lambda s: phrases[s])\n",
        "sents = df['phrased_lemmas']"
      ]
    },
    {
      "cell_type": "markdown",
      "metadata": {
        "id": "sXLBt1K1zDuU"
      },
      "source": [
        "## Blueprint: Training Models with Gensim\n"
      ]
    },
    {
      "cell_type": "code",
      "execution_count": null,
      "metadata": {
        "ExecuteTime": {
          "end_time": "2023-01-07T14:15:38.191188Z",
          "start_time": "2023-01-07T14:15:38.126835Z"
        },
        "id": "kwlqoShzzDuV"
      },
      "outputs": [],
      "source": [
        "# for Gensim training\n",
        "\n",
        "import logging\n",
        "logging.basicConfig(format='%(asctime)s: %(levelname)s: %(message)s', level=logging.INFO)\n",
        "logging.getLogger().setLevel(logging.INFO)"
      ]
    },
    {
      "cell_type": "code",
      "execution_count": null,
      "metadata": {
        "ExecuteTime": {
          "end_time": "2023-01-07T14:15:48.567814Z",
          "start_time": "2023-01-07T14:15:38.194568Z"
        },
        "scrolled": true,
        "id": "M2ixNqWZzDuV"
      },
      "outputs": [],
      "source": [
        "from gensim.models import Word2Vec\n",
        "\n",
        "model = Word2Vec(sents,           # tokenized input sentences\n",
        "                 vector_size=100, # size of word vectors (default 100)\n",
        "                 window=2,        # context window size (default 5)\n",
        "                 sg=1,            # use skip-gram (default 0 = CBOW)\n",
        "                 negative=5,      # number of negative samples (default 5)\n",
        "                 min_count=5,     # ignore infrequent words (default 5)\n",
        "                 workers=4,       # number of threads (default 3)\n",
        "                 epochs=5)         # number of epochs (default 5)"
      ]
    },
    {
      "cell_type": "code",
      "execution_count": null,
      "metadata": {
        "ExecuteTime": {
          "end_time": "2023-01-07T14:15:48.646349Z",
          "start_time": "2023-01-07T14:15:48.571897Z"
        },
        "id": "c_WbzjjezDuW"
      },
      "outputs": [],
      "source": [
        "logging.getLogger().setLevel(logging.ERROR)"
      ]
    },
    {
      "cell_type": "code",
      "execution_count": null,
      "metadata": {
        "ExecuteTime": {
          "end_time": "2023-01-07T14:15:48.871069Z",
          "start_time": "2023-01-07T14:15:48.657339Z"
        },
        "id": "ZWtfIXWszDuW"
      },
      "outputs": [],
      "source": [
        "model.save('./models/autos_w2v_100_2_full.bin')"
      ]
    },
    {
      "cell_type": "code",
      "execution_count": null,
      "metadata": {
        "ExecuteTime": {
          "end_time": "2023-01-07T14:15:49.088824Z",
          "start_time": "2023-01-07T14:15:48.875097Z"
        },
        "id": "0FA5gi-czDuX"
      },
      "outputs": [],
      "source": [
        "model = Word2Vec.load('./models/autos_w2v_100_2_full.bin')"
      ]
    },
    {
      "cell_type": "markdown",
      "metadata": {
        "id": "5D_HdqdszDuX"
      },
      "source": [
        "**This takes several minutes to run.** Please be patient, you need this to continue."
      ]
    },
    {
      "cell_type": "code",
      "execution_count": null,
      "metadata": {
        "ExecuteTime": {
          "end_time": "2023-01-07T14:19:43.349364Z",
          "start_time": "2023-01-07T14:15:49.090910Z"
        },
        "id": "mqUFbfx2zDuY"
      },
      "outputs": [],
      "source": [
        "from gensim.models import Word2Vec, FastText\n",
        "\n",
        "model_path = './models'\n",
        "model_prefix = 'autos'\n",
        "\n",
        "param_grid = {'w2v': {'variant': ['cbow', 'sg'], 'window': [2, 5, 30]},\n",
        "              'ft': {'variant': ['sg'], 'window': [5]}}\n",
        "size = 100\n",
        "\n",
        "for algo, params in param_grid.items():\n",
        "    print(algo) ###\n",
        "    for variant in params['variant']:\n",
        "        sg = 1 if variant == 'sg' else 0\n",
        "        for window in params['window']:\n",
        "            print(f\"  Variant: {variant}, Window: {window}, Size: {size}\") ###\n",
        "            np.random.seed(1) ### to ensure repeatability\n",
        "            if algo == 'w2v':\n",
        "                model = Word2Vec(sents, vector_size=size, window=window, sg=sg)\n",
        "            else:\n",
        "                model = FastText(sents, vector_size=size, window=window, sg=sg)\n",
        "\n",
        "            file_name = f\"{model_path}/{model_prefix}_{algo}_{variant}_{window}\"\n",
        "            model.wv.save_word2vec_format(file_name + '.bin', binary=True)"
      ]
    },
    {
      "cell_type": "markdown",
      "metadata": {
        "id": "-pOOXVx3zDuY"
      },
      "source": [
        "## Blueprint: Evaluating Different Models\n"
      ]
    },
    {
      "cell_type": "code",
      "execution_count": null,
      "metadata": {
        "ExecuteTime": {
          "end_time": "2023-01-07T14:19:44.269566Z",
          "start_time": "2023-01-07T14:19:43.353519Z"
        },
        "id": "xrEgvE7TzDuZ"
      },
      "outputs": [],
      "source": [
        "from gensim.models import KeyedVectors\n",
        "model_path = './models' ###\n",
        "\n",
        "names = ['autos_w2v_cbow_2', 'autos_w2v_sg_2',\n",
        "         'autos_w2v_sg_5', 'autos_w2v_sg_30', 'autos_ft_sg_5']\n",
        "models = {}\n",
        "\n",
        "for name in names:\n",
        "    file_name = f\"{model_path}/{name}.bin\"\n",
        "    print(f\"Loading {file_name}\") ###\n",
        "    models[name] = KeyedVectors.load_word2vec_format(file_name, binary=True)"
      ]
    },
    {
      "cell_type": "code",
      "execution_count": null,
      "metadata": {
        "ExecuteTime": {
          "end_time": "2023-01-07T14:19:44.323335Z",
          "start_time": "2023-01-07T14:19:44.273866Z"
        },
        "id": "I1Q-74cEzDuZ"
      },
      "outputs": [],
      "source": [
        "def compare_models(models, **kwargs):\n",
        "\n",
        "    df = pd.DataFrame()\n",
        "    for name, model in models:\n",
        "        df[name] = [f\"{word} {score:.3f}\"\n",
        "                    for word, score in model.most_similar(**kwargs)]\n",
        "    df.index = df.index + 1 # let row index start at 1\n",
        "    return df"
      ]
    },
    {
      "cell_type": "code",
      "execution_count": null,
      "metadata": {
        "ExecuteTime": {
          "end_time": "2023-01-07T14:19:44.398584Z",
          "start_time": "2023-01-07T14:19:44.325960Z"
        },
        "id": "mvXL1DQEzDua"
      },
      "outputs": [],
      "source": [
        "compare_models([(n, models[n]) for n in names], positive='bmw', topn=10)"
      ]
    },
    {
      "cell_type": "markdown",
      "metadata": {
        "id": "ZC8hYsujzDua"
      },
      "source": [
        "### Looking for Similar Concepts\n"
      ]
    },
    {
      "cell_type": "markdown",
      "metadata": {
        "id": "eKTHgtWkzDub"
      },
      "source": [
        "### Analogy Reasoning on our own Models\n"
      ]
    },
    {
      "cell_type": "markdown",
      "metadata": {
        "id": "Wev9x9hizDuc"
      },
      "source": [
        "**Note** that your results may be slightly different to the ones printed in the book because of random initialization."
      ]
    },
    {
      "cell_type": "code",
      "execution_count": null,
      "metadata": {
        "ExecuteTime": {
          "end_time": "2023-01-07T14:19:44.548823Z",
          "start_time": "2023-01-07T14:19:44.408670Z"
        },
        "id": "SUmIe2DBzDuc"
      },
      "outputs": [],
      "source": [
        "compare_models([(n, models[n]) for n in names],\n",
        "               positive=['f150', 'toyota'], negative=['ford'], topn=5).T"
      ]
    },
    {
      "cell_type": "code",
      "execution_count": null,
      "metadata": {
        "ExecuteTime": {
          "end_time": "2023-01-07T14:19:44.746547Z",
          "start_time": "2023-01-07T14:19:44.554626Z"
        },
        "id": "WJWUori0zDud"
      },
      "outputs": [],
      "source": [
        "# try a different analogy\n",
        "compare_models([(n, models[n]) for n in names],\n",
        "               positive=['x3', 'audi'], negative=['bmw'], topn=5).T"
      ]
    },
    {
      "cell_type": "code",
      "execution_count": null,
      "metadata": {
        "ExecuteTime": {
          "end_time": "2023-01-07T14:19:44.984914Z",
          "start_time": "2023-01-07T14:19:44.767982Z"
        },
        "id": "qUWAB_30zDud"
      },
      "outputs": [],
      "source": [
        "# and another one\n",
        "compare_models([(n, models[n]) for n in names],\n",
        "               positive=['spark-plug'], negative=[], topn=5)"
      ]
    },
    {
      "cell_type": "markdown",
      "metadata": {
        "id": "xew3VD_HzDuf"
      },
      "source": [
        "# Blueprints for Visualizing Embeddings\n"
      ]
    },
    {
      "cell_type": "markdown",
      "metadata": {
        "id": "JxCDOLI3zDuf"
      },
      "source": [
        "## Blueprint: Applying Dimensionality Reduction\n"
      ]
    },
    {
      "cell_type": "code",
      "execution_count": null,
      "metadata": {
        "ExecuteTime": {
          "end_time": "2023-01-07T14:20:07.141619Z",
          "start_time": "2023-01-07T14:19:44.988534Z"
        },
        "id": "j0Z3lu63zDug"
      },
      "outputs": [],
      "source": [
        "from umap import UMAP\n",
        "\n",
        "model = models['autos_w2v_sg_30']\n",
        "words = model.index_to_key # words in vocabulary\n",
        "wv = [model[word] for word in words]\n",
        "\n",
        "reducer = UMAP(n_components=2, metric='cosine', n_neighbors = 15, min_dist=0.1, random_state = 12)\n",
        "reduced_wv = reducer.fit_transform(wv)"
      ]
    },
    {
      "cell_type": "code",
      "execution_count": null,
      "metadata": {
        "ExecuteTime": {
          "end_time": "2023-01-07T14:20:07.913245Z",
          "start_time": "2023-01-07T14:20:07.144436Z"
        },
        "scrolled": false,
        "id": "R9Dx7RSazDug"
      },
      "outputs": [],
      "source": [
        "import plotly.express as px\n",
        "px.defaults.template = \"plotly_white\" ### plotly style\n",
        "\n",
        "plot_df = pd.DataFrame.from_records(reduced_wv, columns=['x', 'y'])\n",
        "plot_df['word'] = words\n",
        "params = {'hover_data': {c: False for c in plot_df.columns},\n",
        "          'hover_name': 'word'}\n",
        "params.update({'width': 800, 'height': 600}) ###\n",
        "\n",
        "fig = px.scatter(plot_df, x=\"x\", y=\"y\", opacity=0.3, size_max=3, **params)\n",
        "fig.update_traces(marker={'line': {'width': 0}}) ###\n",
        "fig.update_xaxes(showticklabels=False, showgrid=True, zeroline=False, visible=True) ###\n",
        "fig.update_yaxes(showticklabels=False, showgrid=True, zeroline=False, visible=True) ###\n",
        "fig.show()"
      ]
    },
    {
      "cell_type": "code",
      "execution_count": null,
      "metadata": {
        "ExecuteTime": {
          "end_time": "2023-01-07T14:24:32.391388Z",
          "start_time": "2023-01-07T14:24:15.499478Z"
        },
        "id": "0WpfkjRazDuh"
      },
      "outputs": [],
      "source": [
        "from blueprints.embeddings import plot_embeddings\n",
        "\n",
        "model = models['autos_w2v_sg_30'] ###\n",
        "search = ['ford', 'lexus', 'vw', 'hyundai',\n",
        "          'goodyear', 'spark-plug', 'florida', 'navigation']\n",
        "\n",
        "_ = plot_embeddings(model, search, topn=50, show_all=True, labels=False,\n",
        "                algo='umap', n_neighbors=15, min_dist=0.1, random_state=12)"
      ]
    },
    {
      "cell_type": "code",
      "execution_count": null,
      "metadata": {
        "ExecuteTime": {
          "end_time": "2023-01-07T14:24:47.802428Z",
          "start_time": "2023-01-07T14:24:43.545417Z"
        },
        "id": "OgbBB4UKzDuh"
      },
      "outputs": [],
      "source": [
        "model = models['autos_w2v_sg_30'] ###\n",
        "search = ['ford', 'bmw', 'toyota', 'tesla', 'audi', 'mercedes', 'hyundai']\n",
        "\n",
        "_ = plot_embeddings(model, search, topn=10, show_all=False, labels=True,\n",
        "    algo='umap', n_neighbors=15, min_dist=10, spread=25, random_state=7)"
      ]
    },
    {
      "cell_type": "code",
      "execution_count": null,
      "metadata": {
        "ExecuteTime": {
          "end_time": "2023-01-07T14:24:49.605716Z",
          "start_time": "2023-01-07T14:24:47.805787Z"
        },
        "id": "59AAEIk5zDui"
      },
      "outputs": [],
      "source": [
        "_ = plot_embeddings(model, search, topn=30, n_dims=3,\n",
        "    algo='umap', n_neighbors=15, min_dist=.1, spread=40, random_state=23)"
      ]
    },
    {
      "cell_type": "code",
      "execution_count": null,
      "metadata": {
        "ExecuteTime": {
          "end_time": "2023-01-07T14:24:49.771049Z",
          "start_time": "2023-01-07T14:24:49.609057Z"
        },
        "id": "WbCV0PiQzDui"
      },
      "outputs": [],
      "source": [
        "# PCA plot (not in the book) - better to explain analogies:\n",
        "# difference vectors of pickup trucks \"f150\"-\"ford\", \"tacoma\"-\"toyota\" and\n",
        "# \"frontier\"-\"nissan\" are almost parallel.\n",
        "# \"x5\"-\"bmw\" is pointing to a somewhat different direction, but \"x5\" is not a pickup\n",
        "\n",
        "model = models['autos_w2v_sg_5']\n",
        "search = ['ford', 'f150', 'toyota', 'tacoma', 'nissan', 'frontier', 'bmw', 'x5']\n",
        "_ = plot_embeddings(model, search, topn=0, algo='pca', labels=True, colors=False)"
      ]
    },
    {
      "cell_type": "markdown",
      "metadata": {
        "id": "8fqAD7C9zDuj"
      },
      "source": [
        "## Blueprint: Using Tensorflow Embedding Projector\n"
      ]
    },
    {
      "cell_type": "code",
      "execution_count": null,
      "metadata": {
        "ExecuteTime": {
          "end_time": "2023-01-07T14:24:53.175030Z",
          "start_time": "2023-01-07T14:24:49.774738Z"
        },
        "id": "PHSn58vJzDuk"
      },
      "outputs": [],
      "source": [
        "import csv\n",
        "\n",
        "model_path = './models' ###\n",
        "name = 'autos_w2v_sg_30'\n",
        "model = models[name]\n",
        "\n",
        "with open(f'{model_path}/{name}_words.tsv', 'w', encoding='utf-8') as tsvfile:\n",
        "    tsvfile.write('\\n'.join(model.index_to_key))\n",
        "\n",
        "with open(f'{model_path}/{name}_vecs.tsv', 'w', encoding='utf-8') as tsvfile:\n",
        "    writer = csv.writer(tsvfile, delimiter='\\t',\n",
        "                        dialect=csv.unix_dialect, quoting=csv.QUOTE_MINIMAL)\n",
        "    for w in model.index_to_key:\n",
        "        _ = writer.writerow(model[w].tolist())"
      ]
    },
    {
      "cell_type": "markdown",
      "metadata": {
        "id": "lZZpneYUzDuk"
      },
      "source": [
        "## Blueprint: Constructing a Similarity Tree\n"
      ]
    },
    {
      "cell_type": "code",
      "execution_count": null,
      "metadata": {
        "ExecuteTime": {
          "end_time": "2023-01-07T14:24:53.306183Z",
          "start_time": "2023-01-07T14:24:53.179850Z"
        },
        "id": "Hhfd_CBPzDuk"
      },
      "outputs": [],
      "source": [
        "import networkx as nx\n",
        "from collections import deque\n",
        "\n",
        "def sim_tree(model, word, top_n, max_dist):\n",
        "\n",
        "    graph = nx.Graph()\n",
        "    graph.add_node(word, dist=0)\n",
        "\n",
        "    to_visit = deque([word])\n",
        "    while len(to_visit) > 0:\n",
        "        source = to_visit.popleft() # visit next node\n",
        "        dist = graph.nodes[source]['dist']+1\n",
        "\n",
        "        if dist <= max_dist: # discover new nodes\n",
        "            for target, sim in model.most_similar(source, topn=top_n):\n",
        "                if target not in graph:\n",
        "                    to_visit.append(target)\n",
        "                    graph.add_node(target, dist=dist)\n",
        "                    graph.add_edge(source, target, sim=sim, dist=dist)\n",
        "    return graph"
      ]
    },
    {
      "cell_type": "code",
      "execution_count": null,
      "metadata": {
        "ExecuteTime": {
          "end_time": "2023-01-07T14:24:53.389660Z",
          "start_time": "2023-01-07T14:24:53.309354Z"
        },
        "id": "HFvY3s9LzDul"
      },
      "outputs": [],
      "source": [
        "def plt_add_margin(pos, x_factor=0.1, y_factor=0.1):\n",
        "    # rescales the image s.t. all captions fit onto the canvas\n",
        "    x_values, y_values = zip(*pos.values())\n",
        "    x_max = max(x_values)\n",
        "    x_min = min(x_values)\n",
        "    y_max = max(y_values)\n",
        "    y_min = min(y_values)\n",
        "\n",
        "    x_margin = (x_max - x_min) * x_factor\n",
        "    y_margin = (y_max - y_min) * y_factor\n",
        "    # return (x_min - x_margin, x_max + x_margin), (y_min - y_margin, y_max + y_margin)\n",
        "\n",
        "    plt.xlim(x_min - x_margin, x_max + x_margin)\n",
        "    plt.ylim(y_min - y_margin, y_max + y_margin)\n",
        "\n",
        "def scale_weights(graph, minw=1, maxw=8):\n",
        "    # rescale similarity to interval [minw, maxw] for display\n",
        "    sims = [graph[s][t]['sim'] for (s, t) in graph.edges]\n",
        "    min_sim, max_sim = min(sims), max(sims)\n",
        "\n",
        "    for source, target in graph.edges:\n",
        "        sim = graph[source][target]['sim']\n",
        "        graph[source][target]['sim'] = (sim-min_sim)/(max_sim-min_sim)*(maxw-minw)+minw\n",
        "\n",
        "    return graph\n",
        "\n",
        "def solve_graphviz_problems(graph):\n",
        "    # Graphviz has problems with unicode\n",
        "    # this is to prevent errors during positioning\n",
        "    def clean(n):\n",
        "        n = n.replace(',', '')\n",
        "        n = n.encode().decode('ascii', errors='ignore')\n",
        "        n = re.sub(r'[{}\\[\\]]', '-', n)\n",
        "        n = re.sub(r'^\\-', '', n)\n",
        "        return n\n",
        "\n",
        "    node_map = {n: clean(n) for n in graph.nodes}\n",
        "    # remove empty nodes\n",
        "    for n, m in node_map.items():\n",
        "        if len(m) == 0:\n",
        "            graph.remove_node(n)\n",
        "\n",
        "    return nx.relabel_nodes(graph, node_map)"
      ]
    },
    {
      "cell_type": "code",
      "execution_count": null,
      "metadata": {
        "ExecuteTime": {
          "end_time": "2023-01-07T14:24:53.482104Z",
          "start_time": "2023-01-07T14:24:53.396827Z"
        },
        "id": "iNeXQh3-zDum"
      },
      "outputs": [],
      "source": [
        "from networkx.drawing.nx_pydot import graphviz_layout\n",
        "\n",
        "def plot_tree(graph, node_size=1000, font_size=12):\n",
        "    graph = solve_graphviz_problems(graph) ###\n",
        "\n",
        "    pos = graphviz_layout(graph, prog='twopi', root=list(graph.nodes)[0])\n",
        "    plt.figure(figsize=(10, 4), dpi=200) ###\n",
        "    plt.grid(b=None) ### hide box\n",
        "    plt.box(False) ### hide grid\n",
        "    plt_add_margin(pos) ### just for layout\n",
        "\n",
        "    colors = [graph.nodes[n]['dist'] for n in graph] # colorize by distance\n",
        "    nx.draw_networkx_nodes(graph, pos, node_size=node_size, node_color=colors,\n",
        "                           cmap='Set1', alpha=0.4)\n",
        "    nx.draw_networkx_labels(graph, pos, font_size=font_size)\n",
        "    scale_weights(graph) ### not in book\n",
        "\n",
        "    for (n1, n2, sim) in graph.edges(data='sim'):\n",
        "         nx.draw_networkx_edges(graph, pos, [(n1, n2)], width=sim, alpha=0.2)\n",
        "\n",
        "    plt.show()"
      ]
    },
    {
      "cell_type": "code",
      "execution_count": null,
      "metadata": {
        "ExecuteTime": {
          "end_time": "2023-01-07T14:24:55.875413Z",
          "start_time": "2023-01-07T14:24:53.489119Z"
        },
        "id": "K_WVY75zzDuo"
      },
      "outputs": [],
      "source": [
        "model = models['autos_w2v_sg_2']\n",
        "graph = sim_tree(model, 'noise', top_n=10, max_dist=3)\n",
        "plot_tree(graph, node_size=500, font_size=8)"
      ]
    },
    {
      "cell_type": "code",
      "execution_count": null,
      "metadata": {
        "ExecuteTime": {
          "end_time": "2023-01-07T14:24:57.156679Z",
          "start_time": "2023-01-07T14:24:55.878534Z"
        },
        "id": "vGIcJGRBzDuo"
      },
      "outputs": [],
      "source": [
        "model = models['autos_w2v_sg_30']\n",
        "graph = sim_tree(model, 'spark-plug', top_n=8, max_dist=2)\n",
        "plot_tree(graph, node_size=500, font_size=8)"
      ]
    },
    {
      "cell_type": "markdown",
      "metadata": {
        "id": "QR0wvnt8zDuo"
      },
      "source": [
        "# Closing Remarks\n"
      ]
    },
    {
      "cell_type": "markdown",
      "metadata": {
        "id": "ShA829FTzDuo"
      },
      "source": [
        "# Further Reading\n"
      ]
    }
  ],
  "metadata": {
    "kernelspec": {
      "display_name": "Python 3 (ipykernel)",
      "language": "python",
      "name": "python3"
    },
    "language_info": {
      "codemirror_mode": {
        "name": "ipython",
        "version": 3
      },
      "file_extension": ".py",
      "mimetype": "text/x-python",
      "name": "python",
      "nbconvert_exporter": "python",
      "pygments_lexer": "ipython3",
      "version": "3.9.10"
    },
    "toc": {
      "base_numbering": 1,
      "nav_menu": {
        "height": "461px",
        "width": "526px"
      },
      "number_sections": true,
      "sideBar": true,
      "skip_h1_title": false,
      "title_cell": "Table of Contents",
      "title_sidebar": "Contents",
      "toc_cell": false,
      "toc_position": {
        "height": "calc(100% - 180px)",
        "left": "10px",
        "top": "150px",
        "width": "215.571px"
      },
      "toc_section_display": true,
      "toc_window_display": true
    },
    "varInspector": {
      "cols": {
        "lenName": 16,
        "lenType": 16,
        "lenVar": 40
      },
      "kernels_config": {
        "python": {
          "delete_cmd_postfix": "",
          "delete_cmd_prefix": "del ",
          "library": "var_list.py",
          "varRefreshCmd": "print(var_dic_list())"
        },
        "r": {
          "delete_cmd_postfix": ") ",
          "delete_cmd_prefix": "rm(",
          "library": "var_list.r",
          "varRefreshCmd": "cat(var_dic_list()) "
        }
      },
      "types_to_exclude": [
        "module",
        "function",
        "builtin_function_or_method",
        "instance",
        "_Feature"
      ],
      "window_display": false
    },
    "colab": {
      "provenance": [],
      "include_colab_link": true
    },
    "widgets": {
      "application/vnd.jupyter.widget-state+json": {
        "5d3fc936e9474995b41be413cfd93b01": {
          "model_module": "@jupyter-widgets/controls",
          "model_name": "HBoxModel",
          "model_module_version": "1.5.0",
          "state": {
            "_dom_classes": [],
            "_model_module": "@jupyter-widgets/controls",
            "_model_module_version": "1.5.0",
            "_model_name": "HBoxModel",
            "_view_count": null,
            "_view_module": "@jupyter-widgets/controls",
            "_view_module_version": "1.5.0",
            "_view_name": "HBoxView",
            "box_style": "",
            "children": [
              "IPY_MODEL_74f6863cca82402b8e9bb2e1a6b5f1bd",
              "IPY_MODEL_7411016a1e534bee988582ab850f990c",
              "IPY_MODEL_c583be5923044b7d81c2221195ffdc48"
            ],
            "layout": "IPY_MODEL_88abc48613fa4db3a9f78a8c06c56335"
          }
        },
        "74f6863cca82402b8e9bb2e1a6b5f1bd": {
          "model_module": "@jupyter-widgets/controls",
          "model_name": "HTMLModel",
          "model_module_version": "1.5.0",
          "state": {
            "_dom_classes": [],
            "_model_module": "@jupyter-widgets/controls",
            "_model_module_version": "1.5.0",
            "_model_name": "HTMLModel",
            "_view_count": null,
            "_view_module": "@jupyter-widgets/controls",
            "_view_module_version": "1.5.0",
            "_view_name": "HTMLView",
            "description": "",
            "description_tooltip": null,
            "layout": "IPY_MODEL_caa7538886d840ca9f4a7c3d37e60fa8",
            "placeholder": "​",
            "style": "IPY_MODEL_e0c1f21d0ffa4f5d9af0e9cd6cb261ed",
            "value": "100%"
          }
        },
        "7411016a1e534bee988582ab850f990c": {
          "model_module": "@jupyter-widgets/controls",
          "model_name": "FloatProgressModel",
          "model_module_version": "1.5.0",
          "state": {
            "_dom_classes": [],
            "_model_module": "@jupyter-widgets/controls",
            "_model_module_version": "1.5.0",
            "_model_name": "FloatProgressModel",
            "_view_count": null,
            "_view_module": "@jupyter-widgets/controls",
            "_view_module_version": "1.5.0",
            "_view_name": "ProgressView",
            "bar_style": "success",
            "description": "",
            "description_tooltip": null,
            "layout": "IPY_MODEL_d9cdebae07f14418ab5bad0a5e6a93c5",
            "max": 20000,
            "min": 0,
            "orientation": "horizontal",
            "style": "IPY_MODEL_9a12a672e18d4035a3b33b5bf5104a26",
            "value": 20000
          }
        },
        "c583be5923044b7d81c2221195ffdc48": {
          "model_module": "@jupyter-widgets/controls",
          "model_name": "HTMLModel",
          "model_module_version": "1.5.0",
          "state": {
            "_dom_classes": [],
            "_model_module": "@jupyter-widgets/controls",
            "_model_module_version": "1.5.0",
            "_model_name": "HTMLModel",
            "_view_count": null,
            "_view_module": "@jupyter-widgets/controls",
            "_view_module_version": "1.5.0",
            "_view_name": "HTMLView",
            "description": "",
            "description_tooltip": null,
            "layout": "IPY_MODEL_668e34f43f0e45adaffc353dfbeb9f01",
            "placeholder": "​",
            "style": "IPY_MODEL_9aaa8037c03e450abf302f53efa39428",
            "value": " 20000/20000 [00:06&lt;00:00, 3186.07it/s]"
          }
        },
        "88abc48613fa4db3a9f78a8c06c56335": {
          "model_module": "@jupyter-widgets/base",
          "model_name": "LayoutModel",
          "model_module_version": "1.2.0",
          "state": {
            "_model_module": "@jupyter-widgets/base",
            "_model_module_version": "1.2.0",
            "_model_name": "LayoutModel",
            "_view_count": null,
            "_view_module": "@jupyter-widgets/base",
            "_view_module_version": "1.2.0",
            "_view_name": "LayoutView",
            "align_content": null,
            "align_items": null,
            "align_self": null,
            "border": null,
            "bottom": null,
            "display": null,
            "flex": null,
            "flex_flow": null,
            "grid_area": null,
            "grid_auto_columns": null,
            "grid_auto_flow": null,
            "grid_auto_rows": null,
            "grid_column": null,
            "grid_gap": null,
            "grid_row": null,
            "grid_template_areas": null,
            "grid_template_columns": null,
            "grid_template_rows": null,
            "height": null,
            "justify_content": null,
            "justify_items": null,
            "left": null,
            "margin": null,
            "max_height": null,
            "max_width": null,
            "min_height": null,
            "min_width": null,
            "object_fit": null,
            "object_position": null,
            "order": null,
            "overflow": null,
            "overflow_x": null,
            "overflow_y": null,
            "padding": null,
            "right": null,
            "top": null,
            "visibility": null,
            "width": null
          }
        },
        "caa7538886d840ca9f4a7c3d37e60fa8": {
          "model_module": "@jupyter-widgets/base",
          "model_name": "LayoutModel",
          "model_module_version": "1.2.0",
          "state": {
            "_model_module": "@jupyter-widgets/base",
            "_model_module_version": "1.2.0",
            "_model_name": "LayoutModel",
            "_view_count": null,
            "_view_module": "@jupyter-widgets/base",
            "_view_module_version": "1.2.0",
            "_view_name": "LayoutView",
            "align_content": null,
            "align_items": null,
            "align_self": null,
            "border": null,
            "bottom": null,
            "display": null,
            "flex": null,
            "flex_flow": null,
            "grid_area": null,
            "grid_auto_columns": null,
            "grid_auto_flow": null,
            "grid_auto_rows": null,
            "grid_column": null,
            "grid_gap": null,
            "grid_row": null,
            "grid_template_areas": null,
            "grid_template_columns": null,
            "grid_template_rows": null,
            "height": null,
            "justify_content": null,
            "justify_items": null,
            "left": null,
            "margin": null,
            "max_height": null,
            "max_width": null,
            "min_height": null,
            "min_width": null,
            "object_fit": null,
            "object_position": null,
            "order": null,
            "overflow": null,
            "overflow_x": null,
            "overflow_y": null,
            "padding": null,
            "right": null,
            "top": null,
            "visibility": null,
            "width": null
          }
        },
        "e0c1f21d0ffa4f5d9af0e9cd6cb261ed": {
          "model_module": "@jupyter-widgets/controls",
          "model_name": "DescriptionStyleModel",
          "model_module_version": "1.5.0",
          "state": {
            "_model_module": "@jupyter-widgets/controls",
            "_model_module_version": "1.5.0",
            "_model_name": "DescriptionStyleModel",
            "_view_count": null,
            "_view_module": "@jupyter-widgets/base",
            "_view_module_version": "1.2.0",
            "_view_name": "StyleView",
            "description_width": ""
          }
        },
        "d9cdebae07f14418ab5bad0a5e6a93c5": {
          "model_module": "@jupyter-widgets/base",
          "model_name": "LayoutModel",
          "model_module_version": "1.2.0",
          "state": {
            "_model_module": "@jupyter-widgets/base",
            "_model_module_version": "1.2.0",
            "_model_name": "LayoutModel",
            "_view_count": null,
            "_view_module": "@jupyter-widgets/base",
            "_view_module_version": "1.2.0",
            "_view_name": "LayoutView",
            "align_content": null,
            "align_items": null,
            "align_self": null,
            "border": null,
            "bottom": null,
            "display": null,
            "flex": null,
            "flex_flow": null,
            "grid_area": null,
            "grid_auto_columns": null,
            "grid_auto_flow": null,
            "grid_auto_rows": null,
            "grid_column": null,
            "grid_gap": null,
            "grid_row": null,
            "grid_template_areas": null,
            "grid_template_columns": null,
            "grid_template_rows": null,
            "height": null,
            "justify_content": null,
            "justify_items": null,
            "left": null,
            "margin": null,
            "max_height": null,
            "max_width": null,
            "min_height": null,
            "min_width": null,
            "object_fit": null,
            "object_position": null,
            "order": null,
            "overflow": null,
            "overflow_x": null,
            "overflow_y": null,
            "padding": null,
            "right": null,
            "top": null,
            "visibility": null,
            "width": null
          }
        },
        "9a12a672e18d4035a3b33b5bf5104a26": {
          "model_module": "@jupyter-widgets/controls",
          "model_name": "ProgressStyleModel",
          "model_module_version": "1.5.0",
          "state": {
            "_model_module": "@jupyter-widgets/controls",
            "_model_module_version": "1.5.0",
            "_model_name": "ProgressStyleModel",
            "_view_count": null,
            "_view_module": "@jupyter-widgets/base",
            "_view_module_version": "1.2.0",
            "_view_name": "StyleView",
            "bar_color": null,
            "description_width": ""
          }
        },
        "668e34f43f0e45adaffc353dfbeb9f01": {
          "model_module": "@jupyter-widgets/base",
          "model_name": "LayoutModel",
          "model_module_version": "1.2.0",
          "state": {
            "_model_module": "@jupyter-widgets/base",
            "_model_module_version": "1.2.0",
            "_model_name": "LayoutModel",
            "_view_count": null,
            "_view_module": "@jupyter-widgets/base",
            "_view_module_version": "1.2.0",
            "_view_name": "LayoutView",
            "align_content": null,
            "align_items": null,
            "align_self": null,
            "border": null,
            "bottom": null,
            "display": null,
            "flex": null,
            "flex_flow": null,
            "grid_area": null,
            "grid_auto_columns": null,
            "grid_auto_flow": null,
            "grid_auto_rows": null,
            "grid_column": null,
            "grid_gap": null,
            "grid_row": null,
            "grid_template_areas": null,
            "grid_template_columns": null,
            "grid_template_rows": null,
            "height": null,
            "justify_content": null,
            "justify_items": null,
            "left": null,
            "margin": null,
            "max_height": null,
            "max_width": null,
            "min_height": null,
            "min_width": null,
            "object_fit": null,
            "object_position": null,
            "order": null,
            "overflow": null,
            "overflow_x": null,
            "overflow_y": null,
            "padding": null,
            "right": null,
            "top": null,
            "visibility": null,
            "width": null
          }
        },
        "9aaa8037c03e450abf302f53efa39428": {
          "model_module": "@jupyter-widgets/controls",
          "model_name": "DescriptionStyleModel",
          "model_module_version": "1.5.0",
          "state": {
            "_model_module": "@jupyter-widgets/controls",
            "_model_module_version": "1.5.0",
            "_model_name": "DescriptionStyleModel",
            "_view_count": null,
            "_view_module": "@jupyter-widgets/base",
            "_view_module_version": "1.2.0",
            "_view_name": "StyleView",
            "description_width": ""
          }
        }
      }
    }
  },
  "nbformat": 4,
  "nbformat_minor": 0
}